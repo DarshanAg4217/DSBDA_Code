{
 "cells": [
  {
   "cell_type": "code",
   "execution_count": null,
   "id": "d9ea8487-2137-4624-9219-8b1bde859e51",
   "metadata": {},
   "outputs": [],
   "source": [
    "#Data Wrangling II Create an “Academic performance” dataset of students and perform the following operations using Python.\n",
    "#\n",
    " #   Scan all variables for missing values and inconsistencies. If there are missing values and/or inconsistencies, use any of the suitable techniques to deal with them.\n",
    "  #  Scan all numeric variables for outliers. If there are outliers, use any of the suitable techniques to deal with them.\n",
    " #   Apply data transformations on at least one of the variables. The purpose of this transformation should be one of the following reasons: to change the scale for better understanding of the variable, to convert a non-linear relation into a linear one, or to decrease the skewness and convert the distribution into a \n",
    "  #  normal distribution. Reason and document your approach properly."
   ]
  },
  {
   "cell_type": "code",
   "execution_count": 1,
   "id": "a2ffb758-0f91-4216-8f48-c3d6ef27fb4d",
   "metadata": {},
   "outputs": [],
   "source": [
    "# Import the required libraries\n",
    "import pandas as pd\n",
    "import numpy as np\n",
    "import matplotlib.pyplot as plt \n",
    "import seaborn as sns\n",
    "%matplotlib inline"
   ]
  },
  {
   "cell_type": "code",
   "execution_count": 3,
   "id": "337a7a8d-1380-4405-b028-f7bb03b18ff1",
   "metadata": {},
   "outputs": [],
   "source": [
    "data = pd.read_csv(\"tecdiv.csv\")"
   ]
  },
  {
   "cell_type": "code",
   "execution_count": 7,
   "id": "6c7443ba-d78e-4470-8249-36472eb8c1bb",
   "metadata": {},
   "outputs": [
    {
     "data": {
      "text/html": [
       "<div>\n",
       "<style scoped>\n",
       "    .dataframe tbody tr th:only-of-type {\n",
       "        vertical-align: middle;\n",
       "    }\n",
       "\n",
       "    .dataframe tbody tr th {\n",
       "        vertical-align: top;\n",
       "    }\n",
       "\n",
       "    .dataframe thead th {\n",
       "        text-align: right;\n",
       "    }\n",
       "</style>\n",
       "<table border=\"1\" class=\"dataframe\">\n",
       "  <thead>\n",
       "    <tr style=\"text-align: right;\">\n",
       "      <th></th>\n",
       "      <th>Timestamp</th>\n",
       "      <th>Email Address</th>\n",
       "      <th>Name</th>\n",
       "      <th>Email</th>\n",
       "      <th>Roll no</th>\n",
       "      <th>PRN No.</th>\n",
       "      <th>Mobile No.</th>\n",
       "      <th>First year:   Sem 1</th>\n",
       "      <th>First year:   Sem 2</th>\n",
       "      <th>Second year:   Sem 1</th>\n",
       "      <th>Second year:   Sem 2</th>\n",
       "    </tr>\n",
       "  </thead>\n",
       "  <tbody>\n",
       "    <tr>\n",
       "      <th>0</th>\n",
       "      <td>1/17/2022 12:45:09</td>\n",
       "      <td>sejal.zambare19@pccoepune.org</td>\n",
       "      <td>Sejal Zambare</td>\n",
       "      <td>sejal.zambare19@gmail.com</td>\n",
       "      <td>TECOC359</td>\n",
       "      <td>72026841K</td>\n",
       "      <td>8208217782</td>\n",
       "      <td>8.40</td>\n",
       "      <td>8.60</td>\n",
       "      <td>9.80</td>\n",
       "      <td>9.90</td>\n",
       "    </tr>\n",
       "    <tr>\n",
       "      <th>1</th>\n",
       "      <td>1/17/2022 12:45:44</td>\n",
       "      <td>rushikesh.thorat19@pccoepune.org</td>\n",
       "      <td>Rushikesh Vilas Thorat</td>\n",
       "      <td>rushikesh.thorat19@pccoepune.org</td>\n",
       "      <td>TECOC347</td>\n",
       "      <td>72026776F</td>\n",
       "      <td>9021261925</td>\n",
       "      <td>8.14</td>\n",
       "      <td>8.14</td>\n",
       "      <td>9.32</td>\n",
       "      <td>9.82</td>\n",
       "    </tr>\n",
       "    <tr>\n",
       "      <th>2</th>\n",
       "      <td>1/17/2022 12:46:10</td>\n",
       "      <td>atharv.sontakke19@pccoepune.org</td>\n",
       "      <td>Atharv Sontakke</td>\n",
       "      <td>atharv123sontakke@gmail.com</td>\n",
       "      <td>TECOC340</td>\n",
       "      <td>72026742M</td>\n",
       "      <td>9009804629</td>\n",
       "      <td>6.61</td>\n",
       "      <td>6.61</td>\n",
       "      <td>9.14</td>\n",
       "      <td>9.14</td>\n",
       "    </tr>\n",
       "    <tr>\n",
       "      <th>3</th>\n",
       "      <td>1/17/2022 12:46:21</td>\n",
       "      <td>amisha.sherekar19@pccoepune.org</td>\n",
       "      <td>Amisha Sunil Sherekar</td>\n",
       "      <td>amisha.sherekar19@pccoepune.org</td>\n",
       "      <td>TECOC328</td>\n",
       "      <td>72026696D</td>\n",
       "      <td>8698227548</td>\n",
       "      <td>7.20</td>\n",
       "      <td>7.30</td>\n",
       "      <td>8.90</td>\n",
       "      <td>9.20</td>\n",
       "    </tr>\n",
       "    <tr>\n",
       "      <th>4</th>\n",
       "      <td>1/17/2022 12:46:31</td>\n",
       "      <td>saurabh.sawardekar19@pccoepune.org</td>\n",
       "      <td>Saurabh Raju Sawardekar</td>\n",
       "      <td>saurabh.sawardekar19@pccoepune.org</td>\n",
       "      <td>TECOC326</td>\n",
       "      <td>72026682D</td>\n",
       "      <td>7774072850</td>\n",
       "      <td>7.05</td>\n",
       "      <td>7.45</td>\n",
       "      <td>9.05</td>\n",
       "      <td>9.40</td>\n",
       "    </tr>\n",
       "  </tbody>\n",
       "</table>\n",
       "</div>"
      ],
      "text/plain": [
       "            Timestamp                       Email Address  \\\n",
       "0  1/17/2022 12:45:09       sejal.zambare19@pccoepune.org   \n",
       "1  1/17/2022 12:45:44    rushikesh.thorat19@pccoepune.org   \n",
       "2  1/17/2022 12:46:10     atharv.sontakke19@pccoepune.org   \n",
       "3  1/17/2022 12:46:21     amisha.sherekar19@pccoepune.org   \n",
       "4  1/17/2022 12:46:31  saurabh.sawardekar19@pccoepune.org   \n",
       "\n",
       "                      Name                               Email  Roll no   \\\n",
       "0            Sejal Zambare           sejal.zambare19@gmail.com  TECOC359   \n",
       "1   Rushikesh Vilas Thorat    rushikesh.thorat19@pccoepune.org  TECOC347   \n",
       "2          Atharv Sontakke         atharv123sontakke@gmail.com  TECOC340   \n",
       "3    Amisha Sunil Sherekar     amisha.sherekar19@pccoepune.org  TECOC328   \n",
       "4  Saurabh Raju Sawardekar  saurabh.sawardekar19@pccoepune.org  TECOC326   \n",
       "\n",
       "     PRN No.  Mobile No.  First year:   Sem 1  First year:   Sem 2  \\\n",
       "0  72026841K  8208217782                 8.40                 8.60   \n",
       "1  72026776F  9021261925                 8.14                 8.14   \n",
       "2  72026742M  9009804629                 6.61                 6.61   \n",
       "3  72026696D  8698227548                 7.20                 7.30   \n",
       "4  72026682D  7774072850                 7.05                 7.45   \n",
       "\n",
       "   Second year:   Sem 1  Second year:   Sem 2  \n",
       "0                  9.80                  9.90  \n",
       "1                  9.32                  9.82  \n",
       "2                  9.14                  9.14  \n",
       "3                  8.90                  9.20  \n",
       "4                  9.05                  9.40  "
      ]
     },
     "execution_count": 7,
     "metadata": {},
     "output_type": "execute_result"
    }
   ],
   "source": [
    "data.head(5)"
   ]
  },
  {
   "cell_type": "code",
   "execution_count": 9,
   "id": "48af0620-aaea-4b87-8466-9e9f18f4c4d1",
   "metadata": {},
   "outputs": [
    {
     "data": {
      "text/plain": [
       "<bound method NDFrame.describe of              Timestamp                       Email Address  \\\n",
       "0   1/17/2022 12:45:09       sejal.zambare19@pccoepune.org   \n",
       "1   1/17/2022 12:45:44    rushikesh.thorat19@pccoepune.org   \n",
       "2   1/17/2022 12:46:10     atharv.sontakke19@pccoepune.org   \n",
       "3   1/17/2022 12:46:21     amisha.sherekar19@pccoepune.org   \n",
       "4   1/17/2022 12:46:31  saurabh.sawardekar19@pccoepune.org   \n",
       "..                 ...                                 ...   \n",
       "59   1/20/2022 9:24:40      pratik.meshram20@pccoepune.org   \n",
       "60   1/20/2022 9:36:14         prasad.zore19@pccoepune.org   \n",
       "61   1/20/2022 9:42:34         sudhir.varu19@pccoepune.org   \n",
       "62  1/20/2022 10:22:05  bhagyashree.takale19@pccoepune.org   \n",
       "63  1/20/2022 10:38:06    sarvesh.waghmare19@pccoepune.org   \n",
       "\n",
       "                         Name                               Email  Roll no   \\\n",
       "0               Sejal Zambare           sejal.zambare19@gmail.com  TECOC359   \n",
       "1      Rushikesh Vilas Thorat    rushikesh.thorat19@pccoepune.org  TECOC347   \n",
       "2             Atharv Sontakke         atharv123sontakke@gmail.com  TECOC340   \n",
       "3       Amisha Sunil Sherekar     amisha.sherekar19@pccoepune.org  TECOC328   \n",
       "4     Saurabh Raju Sawardekar  saurabh.sawardekar19@pccoepune.org  TECOC326   \n",
       "..                        ...                                 ...       ...   \n",
       "59       Pratik Amrut Meshram      pratik.meshram20@pccoepune.org  TECOC381   \n",
       "60                Prasad Zore             prasad.zore@outlook.com  TECOC360   \n",
       "61                SUDHIR VARU              sudhirvaru01@gmail.com  TECOC351   \n",
       "62  Bhagyashree Gorakh Takale           bbhagyashree002@gmail.com  TECOC345   \n",
       "63  Waghmare Sarvesh Jitendra    sarvesh.waghmare19@pccoepune.org  TECOC356   \n",
       "\n",
       "      PRN No.  Mobile No.  First year:   Sem 1  First year:   Sem 2  \\\n",
       "0   72026841K  8208217782                 8.40                 8.60   \n",
       "1   72026776F  9021261925                 8.14                 8.14   \n",
       "2   72026742M  9009804629                 6.61                 6.61   \n",
       "3   72026696D  8698227548                 7.20                 7.30   \n",
       "4   72026682D  7774072850                 7.05                 7.45   \n",
       "..        ...         ...                  ...                  ...   \n",
       "59  72164278M  7666479857                 0.00                 0.00   \n",
       "60  72026843F  7387645749                 8.31                 8.27   \n",
       "61  72026799E  9657017250                 8.31                 8.42   \n",
       "62  72026760K  8805813576                 8.70                 8.50   \n",
       "63  72026817G  7218935035                 6.90                 7.07   \n",
       "\n",
       "    Second year:   Sem 1  Second year:   Sem 2  \n",
       "0                   9.80                  9.90  \n",
       "1                   9.32                  9.82  \n",
       "2                   9.14                  9.14  \n",
       "3                   8.90                  9.20  \n",
       "4                   9.05                  9.40  \n",
       "..                   ...                   ...  \n",
       "59                  9.09                  9.36  \n",
       "60                  9.45                  9.77  \n",
       "61                  8.53                  8.64  \n",
       "62                  8.70                  8.80  \n",
       "63                  9.05                  9.20  \n",
       "\n",
       "[64 rows x 11 columns]>"
      ]
     },
     "execution_count": 9,
     "metadata": {},
     "output_type": "execute_result"
    }
   ],
   "source": [
    "data.describe"
   ]
  },
  {
   "cell_type": "code",
   "execution_count": 17,
   "id": "5d6f294f-dacb-4aa4-a303-a646a24da75c",
   "metadata": {
    "scrolled": true
   },
   "outputs": [
    {
     "data": {
      "text/plain": [
       "Timestamp               0\n",
       "Email Address           0\n",
       "Name                    0\n",
       "Email                   0\n",
       "Roll no                 0\n",
       "PRN No.                 0\n",
       "Mobile No.              0\n",
       "First year:   Sem 1     0\n",
       "First year:   Sem 2     0\n",
       "Second year:   Sem 1    0\n",
       "Second year:   Sem 2    0\n",
       "dtype: int64"
      ]
     },
     "execution_count": 17,
     "metadata": {},
     "output_type": "execute_result"
    }
   ],
   "source": [
    "#CHECK MISSING VALUES\n",
    "data.isnull().sum()  "
   ]
  },
  {
   "cell_type": "code",
   "execution_count": 15,
   "id": "5bdd92ca-09fe-4b15-86b0-664506e27d26",
   "metadata": {},
   "outputs": [
    {
     "data": {
      "text/plain": [
       "0"
      ]
     },
     "execution_count": 15,
     "metadata": {},
     "output_type": "execute_result"
    }
   ],
   "source": [
    "#CHECK MISSING VALUES (Columnwise )\n",
    "data['Name'].isnull().sum()  "
   ]
  },
  {
   "cell_type": "code",
   "execution_count": 21,
   "id": "aa529d6f-e188-4bc0-abc6-b30ab4fe266d",
   "metadata": {},
   "outputs": [
    {
     "name": "stdout",
     "output_type": "stream",
     "text": [
      "Duplicates: 0\n"
     ]
    }
   ],
   "source": [
    "# Check Duplicates Value\n",
    "print(\"Duplicates:\", data.duplicated().sum())"
   ]
  },
  {
   "cell_type": "code",
   "execution_count": 25,
   "id": "e0f997ce-0c2f-4475-84c0-75a9708651c7",
   "metadata": {},
   "outputs": [
    {
     "name": "stdout",
     "output_type": "stream",
     "text": [
      "Duplicates in Email: 0\n"
     ]
    }
   ],
   "source": [
    "# Check Duplicates Value (Columnwise)\n",
    "print(\"Duplicates in Email:\", data['Email'].duplicated().sum())"
   ]
  },
  {
   "cell_type": "code",
   "execution_count": 29,
   "id": "87d40905-527a-4e35-9da5-3098ac2e8ba3",
   "metadata": {},
   "outputs": [
    {
     "name": "stdout",
     "output_type": "stream",
     "text": [
      "\n",
      "Percentage of Missing Values:\n",
      "Timestamp               0.0\n",
      "Email Address           0.0\n",
      "Name                    0.0\n",
      "Email                   0.0\n",
      "Roll no                 0.0\n",
      "PRN No.                 0.0\n",
      "Mobile No.              0.0\n",
      "First year:   Sem 1     0.0\n",
      "First year:   Sem 2     0.0\n",
      "Second year:   Sem 1    0.0\n",
      "Second year:   Sem 2    0.0\n",
      "dtype: float64\n"
     ]
    }
   ],
   "source": [
    "# Overlook of the missing values (% wise )\n",
    "print(\"\\nPercentage of Missing Values:\")\n",
    "print((data.isnull().sum() / len(data)) * 100)"
   ]
  },
  {
   "cell_type": "code",
   "execution_count": 33,
   "id": "d02c5dd8-65a2-4944-ba5a-38d02ceaf249",
   "metadata": {},
   "outputs": [
    {
     "name": "stdout",
     "output_type": "stream",
     "text": [
      "\n",
      "Percentage of Duplicate Values:\n",
      "0.0\n"
     ]
    }
   ],
   "source": [
    "# Overlook of the duplicate values (% wise )\n",
    "\n",
    "print(\"\\nPercentage of Duplicate Values:\")\n",
    "print((data.duplicated().sum() / len(data)) * 100)"
   ]
  },
  {
   "cell_type": "code",
   "execution_count": 136,
   "id": "952c3909-a3c9-4ce9-bb65-4b8ff55b9464",
   "metadata": {},
   "outputs": [
    {
     "name": "stdout",
     "output_type": "stream",
     "text": [
      "Data shape after removing duplicates: (64, 11)\n"
     ]
    }
   ],
   "source": [
    "# Remove duplicate rows\n",
    "data_no_duplicates = data.drop_duplicates()\n",
    "\n",
    "# Check if duplicates are removed\n",
    "print(f\"Data shape after removing duplicates: {data_no_duplicates.shape}\")"
   ]
  },
  {
   "cell_type": "code",
   "execution_count": 55,
   "id": "2eb6f5cf-bd8f-42ee-90da-82babeb3ea29",
   "metadata": {},
   "outputs": [],
   "source": [
    "####   HANDLING OF MISSING VALUES\n",
    "numeric_columns = data.select_dtypes(include=[np.number]).columns\n"
   ]
  },
  {
   "cell_type": "code",
   "execution_count": 113,
   "id": "e1e1fdba-a236-44a2-9d1e-189b3951a5c4",
   "metadata": {},
   "outputs": [
    {
     "data": {
      "text/html": [
       "<div>\n",
       "<style scoped>\n",
       "    .dataframe tbody tr th:only-of-type {\n",
       "        vertical-align: middle;\n",
       "    }\n",
       "\n",
       "    .dataframe tbody tr th {\n",
       "        vertical-align: top;\n",
       "    }\n",
       "\n",
       "    .dataframe thead th {\n",
       "        text-align: right;\n",
       "    }\n",
       "</style>\n",
       "<table border=\"1\" class=\"dataframe\">\n",
       "  <thead>\n",
       "    <tr style=\"text-align: right;\">\n",
       "      <th></th>\n",
       "      <th>Timestamp</th>\n",
       "      <th>Email Address</th>\n",
       "      <th>Name</th>\n",
       "      <th>Email</th>\n",
       "      <th>Roll no</th>\n",
       "      <th>PRN No.</th>\n",
       "      <th>Mobile No.</th>\n",
       "      <th>First year:   Sem 1</th>\n",
       "      <th>First year:   Sem 2</th>\n",
       "      <th>Second year:   Sem 1</th>\n",
       "      <th>Second year:   Sem 2</th>\n",
       "    </tr>\n",
       "  </thead>\n",
       "  <tbody>\n",
       "    <tr>\n",
       "      <th>0</th>\n",
       "      <td>1/17/2022 12:45:09</td>\n",
       "      <td>sejal.zambare19@pccoepune.org</td>\n",
       "      <td>Sejal Zambare</td>\n",
       "      <td>sejal.zambare19@gmail.com</td>\n",
       "      <td>TECOC359</td>\n",
       "      <td>72026841K</td>\n",
       "      <td>8208217782</td>\n",
       "      <td>8.40</td>\n",
       "      <td>8.60</td>\n",
       "      <td>9.80</td>\n",
       "      <td>9.90</td>\n",
       "    </tr>\n",
       "    <tr>\n",
       "      <th>1</th>\n",
       "      <td>1/17/2022 12:45:44</td>\n",
       "      <td>rushikesh.thorat19@pccoepune.org</td>\n",
       "      <td>Rushikesh Vilas Thorat</td>\n",
       "      <td>rushikesh.thorat19@pccoepune.org</td>\n",
       "      <td>TECOC347</td>\n",
       "      <td>72026776F</td>\n",
       "      <td>9021261925</td>\n",
       "      <td>8.14</td>\n",
       "      <td>8.14</td>\n",
       "      <td>9.32</td>\n",
       "      <td>9.82</td>\n",
       "    </tr>\n",
       "    <tr>\n",
       "      <th>2</th>\n",
       "      <td>1/17/2022 12:46:10</td>\n",
       "      <td>atharv.sontakke19@pccoepune.org</td>\n",
       "      <td>Atharv Sontakke</td>\n",
       "      <td>atharv123sontakke@gmail.com</td>\n",
       "      <td>TECOC340</td>\n",
       "      <td>72026742M</td>\n",
       "      <td>9009804629</td>\n",
       "      <td>6.61</td>\n",
       "      <td>6.61</td>\n",
       "      <td>9.14</td>\n",
       "      <td>9.14</td>\n",
       "    </tr>\n",
       "    <tr>\n",
       "      <th>3</th>\n",
       "      <td>1/17/2022 12:46:21</td>\n",
       "      <td>amisha.sherekar19@pccoepune.org</td>\n",
       "      <td>Amisha Sunil Sherekar</td>\n",
       "      <td>amisha.sherekar19@pccoepune.org</td>\n",
       "      <td>TECOC328</td>\n",
       "      <td>72026696D</td>\n",
       "      <td>8698227548</td>\n",
       "      <td>7.20</td>\n",
       "      <td>7.30</td>\n",
       "      <td>8.90</td>\n",
       "      <td>9.20</td>\n",
       "    </tr>\n",
       "    <tr>\n",
       "      <th>4</th>\n",
       "      <td>1/17/2022 12:46:31</td>\n",
       "      <td>saurabh.sawardekar19@pccoepune.org</td>\n",
       "      <td>Saurabh Raju Sawardekar</td>\n",
       "      <td>saurabh.sawardekar19@pccoepune.org</td>\n",
       "      <td>TECOC326</td>\n",
       "      <td>72026682D</td>\n",
       "      <td>7774072850</td>\n",
       "      <td>7.05</td>\n",
       "      <td>7.45</td>\n",
       "      <td>9.05</td>\n",
       "      <td>9.40</td>\n",
       "    </tr>\n",
       "  </tbody>\n",
       "</table>\n",
       "</div>"
      ],
      "text/plain": [
       "            Timestamp                       Email Address  \\\n",
       "0  1/17/2022 12:45:09       sejal.zambare19@pccoepune.org   \n",
       "1  1/17/2022 12:45:44    rushikesh.thorat19@pccoepune.org   \n",
       "2  1/17/2022 12:46:10     atharv.sontakke19@pccoepune.org   \n",
       "3  1/17/2022 12:46:21     amisha.sherekar19@pccoepune.org   \n",
       "4  1/17/2022 12:46:31  saurabh.sawardekar19@pccoepune.org   \n",
       "\n",
       "                      Name                               Email  Roll no   \\\n",
       "0            Sejal Zambare           sejal.zambare19@gmail.com  TECOC359   \n",
       "1   Rushikesh Vilas Thorat    rushikesh.thorat19@pccoepune.org  TECOC347   \n",
       "2          Atharv Sontakke         atharv123sontakke@gmail.com  TECOC340   \n",
       "3    Amisha Sunil Sherekar     amisha.sherekar19@pccoepune.org  TECOC328   \n",
       "4  Saurabh Raju Sawardekar  saurabh.sawardekar19@pccoepune.org  TECOC326   \n",
       "\n",
       "     PRN No.  Mobile No.  First year:   Sem 1  First year:   Sem 2  \\\n",
       "0  72026841K  8208217782                 8.40                 8.60   \n",
       "1  72026776F  9021261925                 8.14                 8.14   \n",
       "2  72026742M  9009804629                 6.61                 6.61   \n",
       "3  72026696D  8698227548                 7.20                 7.30   \n",
       "4  72026682D  7774072850                 7.05                 7.45   \n",
       "\n",
       "   Second year:   Sem 1  Second year:   Sem 2  \n",
       "0                  9.80                  9.90  \n",
       "1                  9.32                  9.82  \n",
       "2                  9.14                  9.14  \n",
       "3                  8.90                  9.20  \n",
       "4                  9.05                  9.40  "
      ]
     },
     "execution_count": 113,
     "metadata": {},
     "output_type": "execute_result"
    }
   ],
   "source": [
    "# CALCULATING MEAN OF ALL NUMERIC COLUMNS AND FILLING MISSING VALUES\n",
    "for col in numeric_columns:\n",
    "    data[col] = data[col].fillna(data[col].mean()) \n",
    "data.head(5)"
   ]
  },
  {
   "cell_type": "code",
   "execution_count": 73,
   "id": "30656cd6-9581-47c7-b471-409581253a25",
   "metadata": {},
   "outputs": [
    {
     "data": {
      "text/html": [
       "<div>\n",
       "<style scoped>\n",
       "    .dataframe tbody tr th:only-of-type {\n",
       "        vertical-align: middle;\n",
       "    }\n",
       "\n",
       "    .dataframe tbody tr th {\n",
       "        vertical-align: top;\n",
       "    }\n",
       "\n",
       "    .dataframe thead th {\n",
       "        text-align: right;\n",
       "    }\n",
       "</style>\n",
       "<table border=\"1\" class=\"dataframe\">\n",
       "  <thead>\n",
       "    <tr style=\"text-align: right;\">\n",
       "      <th></th>\n",
       "      <th>Timestamp</th>\n",
       "      <th>Email Address</th>\n",
       "      <th>Name</th>\n",
       "      <th>Email</th>\n",
       "      <th>Roll no</th>\n",
       "      <th>PRN No.</th>\n",
       "      <th>Mobile No.</th>\n",
       "      <th>First year:   Sem 1</th>\n",
       "      <th>First year:   Sem 2</th>\n",
       "      <th>Second year:   Sem 1</th>\n",
       "      <th>Second year:   Sem 2</th>\n",
       "    </tr>\n",
       "  </thead>\n",
       "  <tbody>\n",
       "    <tr>\n",
       "      <th>0</th>\n",
       "      <td>1/17/2022 12:45:09</td>\n",
       "      <td>sejal.zambare19@pccoepune.org</td>\n",
       "      <td>Sejal Zambare</td>\n",
       "      <td>sejal.zambare19@gmail.com</td>\n",
       "      <td>TECOC359</td>\n",
       "      <td>72026841K</td>\n",
       "      <td>8208217782</td>\n",
       "      <td>8.40</td>\n",
       "      <td>8.60</td>\n",
       "      <td>9.80</td>\n",
       "      <td>9.90</td>\n",
       "    </tr>\n",
       "    <tr>\n",
       "      <th>1</th>\n",
       "      <td>1/17/2022 12:45:44</td>\n",
       "      <td>rushikesh.thorat19@pccoepune.org</td>\n",
       "      <td>Rushikesh Vilas Thorat</td>\n",
       "      <td>rushikesh.thorat19@pccoepune.org</td>\n",
       "      <td>TECOC347</td>\n",
       "      <td>72026776F</td>\n",
       "      <td>9021261925</td>\n",
       "      <td>8.14</td>\n",
       "      <td>8.14</td>\n",
       "      <td>9.32</td>\n",
       "      <td>9.82</td>\n",
       "    </tr>\n",
       "    <tr>\n",
       "      <th>2</th>\n",
       "      <td>1/17/2022 12:46:10</td>\n",
       "      <td>atharv.sontakke19@pccoepune.org</td>\n",
       "      <td>Atharv Sontakke</td>\n",
       "      <td>atharv123sontakke@gmail.com</td>\n",
       "      <td>TECOC340</td>\n",
       "      <td>72026742M</td>\n",
       "      <td>9009804629</td>\n",
       "      <td>6.61</td>\n",
       "      <td>6.61</td>\n",
       "      <td>9.14</td>\n",
       "      <td>9.14</td>\n",
       "    </tr>\n",
       "    <tr>\n",
       "      <th>3</th>\n",
       "      <td>1/17/2022 12:46:21</td>\n",
       "      <td>amisha.sherekar19@pccoepune.org</td>\n",
       "      <td>Amisha Sunil Sherekar</td>\n",
       "      <td>amisha.sherekar19@pccoepune.org</td>\n",
       "      <td>TECOC328</td>\n",
       "      <td>72026696D</td>\n",
       "      <td>8698227548</td>\n",
       "      <td>7.20</td>\n",
       "      <td>7.30</td>\n",
       "      <td>8.90</td>\n",
       "      <td>9.20</td>\n",
       "    </tr>\n",
       "    <tr>\n",
       "      <th>4</th>\n",
       "      <td>1/17/2022 12:46:31</td>\n",
       "      <td>saurabh.sawardekar19@pccoepune.org</td>\n",
       "      <td>Saurabh Raju Sawardekar</td>\n",
       "      <td>saurabh.sawardekar19@pccoepune.org</td>\n",
       "      <td>TECOC326</td>\n",
       "      <td>72026682D</td>\n",
       "      <td>7774072850</td>\n",
       "      <td>7.05</td>\n",
       "      <td>7.45</td>\n",
       "      <td>9.05</td>\n",
       "      <td>9.40</td>\n",
       "    </tr>\n",
       "  </tbody>\n",
       "</table>\n",
       "</div>"
      ],
      "text/plain": [
       "            Timestamp                       Email Address  \\\n",
       "0  1/17/2022 12:45:09       sejal.zambare19@pccoepune.org   \n",
       "1  1/17/2022 12:45:44    rushikesh.thorat19@pccoepune.org   \n",
       "2  1/17/2022 12:46:10     atharv.sontakke19@pccoepune.org   \n",
       "3  1/17/2022 12:46:21     amisha.sherekar19@pccoepune.org   \n",
       "4  1/17/2022 12:46:31  saurabh.sawardekar19@pccoepune.org   \n",
       "\n",
       "                      Name                               Email  Roll no   \\\n",
       "0            Sejal Zambare           sejal.zambare19@gmail.com  TECOC359   \n",
       "1   Rushikesh Vilas Thorat    rushikesh.thorat19@pccoepune.org  TECOC347   \n",
       "2          Atharv Sontakke         atharv123sontakke@gmail.com  TECOC340   \n",
       "3    Amisha Sunil Sherekar     amisha.sherekar19@pccoepune.org  TECOC328   \n",
       "4  Saurabh Raju Sawardekar  saurabh.sawardekar19@pccoepune.org  TECOC326   \n",
       "\n",
       "     PRN No.  Mobile No.  First year:   Sem 1  First year:   Sem 2  \\\n",
       "0  72026841K  8208217782                 8.40                 8.60   \n",
       "1  72026776F  9021261925                 8.14                 8.14   \n",
       "2  72026742M  9009804629                 6.61                 6.61   \n",
       "3  72026696D  8698227548                 7.20                 7.30   \n",
       "4  72026682D  7774072850                 7.05                 7.45   \n",
       "\n",
       "   Second year:   Sem 1  Second year:   Sem 2  \n",
       "0                  9.80                  9.90  \n",
       "1                  9.32                  9.82  \n",
       "2                  9.14                  9.14  \n",
       "3                  8.90                  9.20  \n",
       "4                  9.05                  9.40  "
      ]
     },
     "execution_count": 73,
     "metadata": {},
     "output_type": "execute_result"
    }
   ],
   "source": [
    "# CALCULATING MEAN OF ALL NUMERIC COLUMNS AND FILLING MISSING VALUES\n",
    "\n",
    "categorical_columns = data.select_dtypes(include=[object]).columns\n",
    "\n",
    "for col in categorical_columns:\n",
    "    data[col] = data[col].fillna(data[col].mode()[0])  # Replacing missing values with column mode\n",
    "\n",
    "data.head(5)"
   ]
  },
  {
   "cell_type": "code",
   "execution_count": 103,
   "id": "c48a5251-f8e7-49f6-9b35-580b7c2b8195",
   "metadata": {},
   "outputs": [
    {
     "name": "stdout",
     "output_type": "stream",
     "text": [
      "Mean For FE SEM 1 : 8.83421875\n"
     ]
    }
   ],
   "source": [
    "## Calculate Mean   Coulmnwise\n",
    "\n",
    "mean_F1= data[\"First year:   Sem 1\"].mean()\n",
    "print(\"Mean For FE SEM 1 :\",mean_F1)"
   ]
  },
  {
   "cell_type": "code",
   "execution_count": 105,
   "id": "59b0200c-c083-4483-a474-3eea31da3dae",
   "metadata": {},
   "outputs": [
    {
     "data": {
      "text/html": [
       "<div>\n",
       "<style scoped>\n",
       "    .dataframe tbody tr th:only-of-type {\n",
       "        vertical-align: middle;\n",
       "    }\n",
       "\n",
       "    .dataframe tbody tr th {\n",
       "        vertical-align: top;\n",
       "    }\n",
       "\n",
       "    .dataframe thead th {\n",
       "        text-align: right;\n",
       "    }\n",
       "</style>\n",
       "<table border=\"1\" class=\"dataframe\">\n",
       "  <thead>\n",
       "    <tr style=\"text-align: right;\">\n",
       "      <th></th>\n",
       "      <th>Timestamp</th>\n",
       "      <th>Email Address</th>\n",
       "      <th>Name</th>\n",
       "      <th>Email</th>\n",
       "      <th>Roll no</th>\n",
       "      <th>PRN No.</th>\n",
       "      <th>Mobile No.</th>\n",
       "      <th>First year:   Sem 1</th>\n",
       "      <th>First year:   Sem 2</th>\n",
       "      <th>Second year:   Sem 1</th>\n",
       "      <th>Second year:   Sem 2</th>\n",
       "    </tr>\n",
       "  </thead>\n",
       "  <tbody>\n",
       "    <tr>\n",
       "      <th>0</th>\n",
       "      <td>1/17/2022 12:45:09</td>\n",
       "      <td>sejal.zambare19@pccoepune.org</td>\n",
       "      <td>Sejal Zambare</td>\n",
       "      <td>sejal.zambare19@gmail.com</td>\n",
       "      <td>TECOC359</td>\n",
       "      <td>72026841K</td>\n",
       "      <td>8208217782</td>\n",
       "      <td>8.40</td>\n",
       "      <td>8.60</td>\n",
       "      <td>9.80</td>\n",
       "      <td>9.90</td>\n",
       "    </tr>\n",
       "    <tr>\n",
       "      <th>1</th>\n",
       "      <td>1/17/2022 12:45:44</td>\n",
       "      <td>rushikesh.thorat19@pccoepune.org</td>\n",
       "      <td>Rushikesh Vilas Thorat</td>\n",
       "      <td>rushikesh.thorat19@pccoepune.org</td>\n",
       "      <td>TECOC347</td>\n",
       "      <td>72026776F</td>\n",
       "      <td>9021261925</td>\n",
       "      <td>8.14</td>\n",
       "      <td>8.14</td>\n",
       "      <td>9.32</td>\n",
       "      <td>9.82</td>\n",
       "    </tr>\n",
       "    <tr>\n",
       "      <th>2</th>\n",
       "      <td>1/17/2022 12:46:10</td>\n",
       "      <td>atharv.sontakke19@pccoepune.org</td>\n",
       "      <td>Atharv Sontakke</td>\n",
       "      <td>atharv123sontakke@gmail.com</td>\n",
       "      <td>TECOC340</td>\n",
       "      <td>72026742M</td>\n",
       "      <td>9009804629</td>\n",
       "      <td>6.61</td>\n",
       "      <td>6.61</td>\n",
       "      <td>9.14</td>\n",
       "      <td>9.14</td>\n",
       "    </tr>\n",
       "  </tbody>\n",
       "</table>\n",
       "</div>"
      ],
      "text/plain": [
       "            Timestamp                     Email Address  \\\n",
       "0  1/17/2022 12:45:09     sejal.zambare19@pccoepune.org   \n",
       "1  1/17/2022 12:45:44  rushikesh.thorat19@pccoepune.org   \n",
       "2  1/17/2022 12:46:10   atharv.sontakke19@pccoepune.org   \n",
       "\n",
       "                     Name                             Email  Roll no   \\\n",
       "0           Sejal Zambare         sejal.zambare19@gmail.com  TECOC359   \n",
       "1  Rushikesh Vilas Thorat  rushikesh.thorat19@pccoepune.org  TECOC347   \n",
       "2         Atharv Sontakke       atharv123sontakke@gmail.com  TECOC340   \n",
       "\n",
       "     PRN No.  Mobile No.  First year:   Sem 1  First year:   Sem 2  \\\n",
       "0  72026841K  8208217782                 8.40                 8.60   \n",
       "1  72026776F  9021261925                 8.14                 8.14   \n",
       "2  72026742M  9009804629                 6.61                 6.61   \n",
       "\n",
       "   Second year:   Sem 1  Second year:   Sem 2  \n",
       "0                  9.80                  9.90  \n",
       "1                  9.32                  9.82  \n",
       "2                  9.14                  9.14  "
      ]
     },
     "execution_count": 105,
     "metadata": {},
     "output_type": "execute_result"
    }
   ],
   "source": [
    "##fill the missing values with mean Coulmnwise\n",
    "\n",
    "data['First year:   Sem 1'] = data['First year:   Sem 1'].fillna(mean_F1)\n",
    "data.head(3)"
   ]
  },
  {
   "cell_type": "code",
   "execution_count": 107,
   "id": "15d1130e-0791-49c6-adcc-3fb6c8ed6de5",
   "metadata": {},
   "outputs": [
    {
     "name": "stdout",
     "output_type": "stream",
     "text": [
      "Mode For FE SEM 1 : 0    0.0\n",
      "Name: First year:   Sem 1, dtype: float64\n"
     ]
    }
   ],
   "source": [
    "## Calculate Mode  Coulmnwise\n",
    " \n",
    "mode_f1= data[\"First year:   Sem 1\"].mode()\n",
    "print(\"Mode For FE SEM 1 :\",mode_f1)"
   ]
  },
  {
   "cell_type": "code",
   "execution_count": 109,
   "id": "3407c4f0-20ba-42f8-b5af-44cd3068d2f3",
   "metadata": {},
   "outputs": [
    {
     "data": {
      "text/html": [
       "<div>\n",
       "<style scoped>\n",
       "    .dataframe tbody tr th:only-of-type {\n",
       "        vertical-align: middle;\n",
       "    }\n",
       "\n",
       "    .dataframe tbody tr th {\n",
       "        vertical-align: top;\n",
       "    }\n",
       "\n",
       "    .dataframe thead th {\n",
       "        text-align: right;\n",
       "    }\n",
       "</style>\n",
       "<table border=\"1\" class=\"dataframe\">\n",
       "  <thead>\n",
       "    <tr style=\"text-align: right;\">\n",
       "      <th></th>\n",
       "      <th>Timestamp</th>\n",
       "      <th>Email Address</th>\n",
       "      <th>Name</th>\n",
       "      <th>Email</th>\n",
       "      <th>Roll no</th>\n",
       "      <th>PRN No.</th>\n",
       "      <th>Mobile No.</th>\n",
       "      <th>First year:   Sem 1</th>\n",
       "      <th>First year:   Sem 2</th>\n",
       "      <th>Second year:   Sem 1</th>\n",
       "      <th>Second year:   Sem 2</th>\n",
       "    </tr>\n",
       "  </thead>\n",
       "  <tbody>\n",
       "    <tr>\n",
       "      <th>0</th>\n",
       "      <td>1/17/2022 12:45:09</td>\n",
       "      <td>sejal.zambare19@pccoepune.org</td>\n",
       "      <td>Sejal Zambare</td>\n",
       "      <td>sejal.zambare19@gmail.com</td>\n",
       "      <td>TECOC359</td>\n",
       "      <td>72026841K</td>\n",
       "      <td>8208217782</td>\n",
       "      <td>8.40</td>\n",
       "      <td>8.60</td>\n",
       "      <td>9.80</td>\n",
       "      <td>9.90</td>\n",
       "    </tr>\n",
       "    <tr>\n",
       "      <th>1</th>\n",
       "      <td>1/17/2022 12:45:44</td>\n",
       "      <td>rushikesh.thorat19@pccoepune.org</td>\n",
       "      <td>Rushikesh Vilas Thorat</td>\n",
       "      <td>rushikesh.thorat19@pccoepune.org</td>\n",
       "      <td>TECOC347</td>\n",
       "      <td>72026776F</td>\n",
       "      <td>9021261925</td>\n",
       "      <td>8.14</td>\n",
       "      <td>8.14</td>\n",
       "      <td>9.32</td>\n",
       "      <td>9.82</td>\n",
       "    </tr>\n",
       "    <tr>\n",
       "      <th>2</th>\n",
       "      <td>1/17/2022 12:46:10</td>\n",
       "      <td>atharv.sontakke19@pccoepune.org</td>\n",
       "      <td>Atharv Sontakke</td>\n",
       "      <td>atharv123sontakke@gmail.com</td>\n",
       "      <td>TECOC340</td>\n",
       "      <td>72026742M</td>\n",
       "      <td>9009804629</td>\n",
       "      <td>6.61</td>\n",
       "      <td>6.61</td>\n",
       "      <td>9.14</td>\n",
       "      <td>9.14</td>\n",
       "    </tr>\n",
       "  </tbody>\n",
       "</table>\n",
       "</div>"
      ],
      "text/plain": [
       "            Timestamp                     Email Address  \\\n",
       "0  1/17/2022 12:45:09     sejal.zambare19@pccoepune.org   \n",
       "1  1/17/2022 12:45:44  rushikesh.thorat19@pccoepune.org   \n",
       "2  1/17/2022 12:46:10   atharv.sontakke19@pccoepune.org   \n",
       "\n",
       "                     Name                             Email  Roll no   \\\n",
       "0           Sejal Zambare         sejal.zambare19@gmail.com  TECOC359   \n",
       "1  Rushikesh Vilas Thorat  rushikesh.thorat19@pccoepune.org  TECOC347   \n",
       "2         Atharv Sontakke       atharv123sontakke@gmail.com  TECOC340   \n",
       "\n",
       "     PRN No.  Mobile No.  First year:   Sem 1  First year:   Sem 2  \\\n",
       "0  72026841K  8208217782                 8.40                 8.60   \n",
       "1  72026776F  9021261925                 8.14                 8.14   \n",
       "2  72026742M  9009804629                 6.61                 6.61   \n",
       "\n",
       "   Second year:   Sem 1  Second year:   Sem 2  \n",
       "0                  9.80                  9.90  \n",
       "1                  9.32                  9.82  \n",
       "2                  9.14                  9.14  "
      ]
     },
     "execution_count": 109,
     "metadata": {},
     "output_type": "execute_result"
    }
   ],
   "source": [
    "##fill the missing values with mean   Coulmnwise\n",
    "\n",
    "data['First year:   Sem 1'] = data['First year:   Sem 1'].fillna(mode_f1)\n",
    "data.head(3)"
   ]
  },
  {
   "cell_type": "code",
   "execution_count": 115,
   "id": "7a8e5373-9ad3-46b9-8d9d-3eb35347bf63",
   "metadata": {},
   "outputs": [
    {
     "name": "stdout",
     "output_type": "stream",
     "text": [
      "Before dropping, shape: (64, 11)\n",
      "Missing values per column:\n",
      " Timestamp               0\n",
      "Email Address           0\n",
      "Name                    0\n",
      "Email                   0\n",
      "Roll no                 0\n",
      "PRN No.                 0\n",
      "Mobile No.              0\n",
      "First year:   Sem 1     0\n",
      "First year:   Sem 2     0\n",
      "Second year:   Sem 1    0\n",
      "Second year:   Sem 2    0\n",
      "dtype: int64\n"
     ]
    }
   ],
   "source": [
    "# Check how many rows have missing values  over look\n",
    "print(\"Before dropping, shape:\", data.shape)\n",
    "print(\"Missing values per column:\\n\", data.isnull().sum())\n"
   ]
  },
  {
   "cell_type": "code",
   "execution_count": 117,
   "id": "686ba5b3-b69f-4156-9100-884044fcd8e8",
   "metadata": {},
   "outputs": [],
   "source": [
    "# Drop rows where ANY value is missing\n",
    "\n",
    "data_cleaned = data.dropna()"
   ]
  },
  {
   "cell_type": "code",
   "execution_count": 119,
   "id": "dea4a5b5-abbd-4175-80f4-0d844d3c4ac7",
   "metadata": {},
   "outputs": [
    {
     "name": "stdout",
     "output_type": "stream",
     "text": [
      "After dropping, shape: (64, 11)\n"
     ]
    }
   ],
   "source": [
    "# Shape after dropping\n",
    "print(\"After dropping, shape:\", data_cleaned.shape)"
   ]
  },
  {
   "cell_type": "code",
   "execution_count": null,
   "id": "ebfce8c4-fd00-4966-8b4d-b8903fac932e",
   "metadata": {},
   "outputs": [],
   "source": [
    "##############      OUTLIERS HANDLING   #####################"
   ]
  },
  {
   "cell_type": "code",
   "execution_count": 127,
   "id": "ae8e23ba-825a-4913-8f4a-0237b7e1d488",
   "metadata": {},
   "outputs": [
    {
     "data": {
      "image/png": "[encoded data removed]",
      "text/plain": [
       "<Figure size 640x480 with 1 Axes>"
      ]
     },
     "metadata": {},
     "output_type": "display_data"
    }
   ],
   "source": [
    "## Checking Outliers columnwise\n",
    "### Before handling Outliers\n",
    "sns.boxplot(y=data['First year:   Sem 1'])\n",
    "plt.title('Boxplot of First year: Sem 1')\n",
    "plt.show()"
   ]
  },
  {
   "cell_type": "code",
   "execution_count": 134,
   "id": "08e237d5-307b-40e4-becb-163a02574268",
   "metadata": {},
   "outputs": [
    {
     "name": "stdout",
     "output_type": "stream",
     "text": [
      "Data shape after removing outliers: (64, 11)\n"
     ]
    }
   ],
   "source": [
    "####    REMOVING OUTLIERS\n",
    "\n",
    "# Calculate Q1 (25th percentile) and Q3 (75th percentile)\n",
    "Q1 = data['First year:   Sem 1'].quantile(0.25)\n",
    "Q3 = data['First year:   Sem 1'].quantile(0.75)\n",
    "#Q1 (25th percentile) is the value below which 25% of the data falls.\n",
    "#Q3 (75th percentile) is the value below which 75% of the data falls.\n",
    "#The quantile(0.25) function gives us Q1, and quantile(0.75) gives us Q3.\n",
    "# Calculate IQR\n",
    "IQR = Q3 - Q1\n",
    "#IQR is the difference between the 75th and 25th percentiles (Q3 - Q1).\n",
    "\n",
    "#It represents the spread of the middle 50% of the data\n",
    "# Define the lower and upper bounds for outliers\n",
    "lower_bound = Q1 - 1.5 * IQR\n",
    "upper_bound = Q3 + 1.5 * IQR\n",
    "\n",
    "# Filter the data to remove outliers\n",
    "data_filtered = data[(data['First year:   Sem 1'] >= lower_bound) & (data['First year:   Sem 1'] <= upper_bound)]\n",
    "#The condition data['First year: Sem 1'] >= lower_bound checks that the value is greater than or equal to the lower bound, \n",
    "#and data['First year: Sem 1'] <= upper_bound ensures it is less than or equal to the upper bound.\n",
    "# Check the shape of the data after removing outliers\n",
    "print(\"Data shape after removing outliers:\", data_filtered.shape)"
   ]
  },
  {
   "cell_type": "code",
   "execution_count": 132,
   "id": "0e2642b9-42fd-481f-bc5e-45de69b9cc19",
   "metadata": {},
   "outputs": [
    {
     "data": {
      "image/png": "[encoded data removed]",
      "text/plain": [
       "<Figure size 640x480 with 1 Axes>"
      ]
     },
     "metadata": {},
     "output_type": "display_data"
    }
   ],
   "source": [
    "#### After Handling Outliers\n",
    "\n",
    "# Cap the outliers at the lower and upper bounds\n",
    "data['First year:   Sem 1'] = data['First year:   Sem 1'].apply(\n",
    "    lambda x: upper_bound if x > upper_bound else (lower_bound if x < lower_bound else x)\n",
    ")\n",
    "\n",
    "# Check the updated column\n",
    "sns.boxplot(y=data['First year:   Sem 1'])\n",
    "plt.title('Boxplot of First year: Sem 1 after Capping Outliers')\n",
    "plt.show()"
   ]
  }
 ],
 "metadata": {
  "kernelspec": {
   "display_name": "Python [conda env:base] *",
   "language": "python",
   "name": "conda-base-py"
  },
  "language_info": {
   "codemirror_mode": {
    "name": "ipython",
    "version": 3
   },
   "file_extension": ".py",
   "mimetype": "text/x-python",
   "name": "python",
   "nbconvert_exporter": "python",
   "pygments_lexer": "ipython3",
   "version": "3.12.7"
  }
 },
 "nbformat": 4,
 "nbformat_minor": 5
}

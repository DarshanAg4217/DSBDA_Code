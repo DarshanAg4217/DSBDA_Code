{
 "cells": [
  {
   "cell_type": "code",
   "execution_count": 66,
   "id": "2d583fad-dd75-4f28-8828-f4f1bc530867",
   "metadata": {},
   "outputs": [],
   "source": [
    " #Text Analytics \n",
    "#1. Extract Sample document and apply following document preprocessing methods: \n",
    "#Tokenization, POS Tagging, stop words removal, Stemming and Lemmatization. \n",
    "#2. Create representation of document by calculating Term Frequency and Inverse Document \n",
    "#Frequency."
   ]
  },
  {
   "cell_type": "code",
   "execution_count": 3,
   "id": "a859bf27-e24d-40b0-9742-d37d7a7f94fc",
   "metadata": {},
   "outputs": [],
   "source": [
    "import nltk\n",
    "from nltk.tokenize import word_tokenize\n",
    "from nltk import pos_tag\n",
    "from nltk.stem import PorterStemmer\n",
    "from nltk.corpus import stopwords\n",
    "from nltk.stem import WordNetLemmatizer"
   ]
  },
  {
   "cell_type": "code",
   "execution_count": 5,
   "id": "096a9459-53e5-4fa7-bb0c-55dd51f039e6",
   "metadata": {},
   "outputs": [
    {
     "name": "stderr",
     "output_type": "stream",
     "text": [
      "[nltk_data] Downloading collection 'all'\n",
      "[nltk_data]    | \n",
      "[nltk_data]    | Downloading package abc to\n",
      "[nltk_data]    |     C:\\Users\\Admin\\AppData\\Roaming\\nltk_data...\n",
      "[nltk_data]    |   Unzipping corpora\\abc.zip.\n",
      "[nltk_data]    | Downloading package alpino to\n",
      "[nltk_data]    |     C:\\Users\\Admin\\AppData\\Roaming\\nltk_data...\n",
      "[nltk_data]    |   Unzipping corpora\\alpino.zip.\n",
      "[nltk_data]    | Downloading package averaged_perceptron_tagger to\n",
      "[nltk_data]    |     C:\\Users\\Admin\\AppData\\Roaming\\nltk_data...\n",
      "[nltk_data]    |   Unzipping taggers\\averaged_perceptron_tagger.zip.\n",
      "[nltk_data]    | Downloading package averaged_perceptron_tagger_eng to\n",
      "[nltk_data]    |     C:\\Users\\Admin\\AppData\\Roaming\\nltk_data...\n",
      "[nltk_data]    |   Unzipping\n",
      "[nltk_data]    |       taggers\\averaged_perceptron_tagger_eng.zip.\n",
      "[nltk_data]    | Downloading package averaged_perceptron_tagger_ru to\n",
      "[nltk_data]    |     C:\\Users\\Admin\\AppData\\Roaming\\nltk_data...\n",
      "[nltk_data]    |   Unzipping\n",
      "[nltk_data]    |       taggers\\averaged_perceptron_tagger_ru.zip.\n",
      "[nltk_data]    | Downloading package averaged_perceptron_tagger_rus to\n",
      "[nltk_data]    |     C:\\Users\\Admin\\AppData\\Roaming\\nltk_data...\n",
      "[nltk_data]    |   Unzipping\n",
      "[nltk_data]    |       taggers\\averaged_perceptron_tagger_rus.zip.\n",
      "[nltk_data]    | Downloading package basque_grammars to\n",
      "[nltk_data]    |     C:\\Users\\Admin\\AppData\\Roaming\\nltk_data...\n",
      "[nltk_data]    |   Unzipping grammars\\basque_grammars.zip.\n",
      "[nltk_data]    | Downloading package bcp47 to\n",
      "[nltk_data]    |     C:\\Users\\Admin\\AppData\\Roaming\\nltk_data...\n",
      "[nltk_data]    | Downloading package biocreative_ppi to\n",
      "[nltk_data]    |     C:\\Users\\Admin\\AppData\\Roaming\\nltk_data...\n",
      "[nltk_data]    |   Unzipping corpora\\biocreative_ppi.zip.\n",
      "[nltk_data]    | Downloading package bllip_wsj_no_aux to\n",
      "[nltk_data]    |     C:\\Users\\Admin\\AppData\\Roaming\\nltk_data...\n",
      "[nltk_data]    |   Unzipping models\\bllip_wsj_no_aux.zip.\n",
      "[nltk_data]    | Downloading package book_grammars to\n",
      "[nltk_data]    |     C:\\Users\\Admin\\AppData\\Roaming\\nltk_data...\n",
      "[nltk_data]    |   Unzipping grammars\\book_grammars.zip.\n",
      "[nltk_data]    | Downloading package brown to\n",
      "[nltk_data]    |     C:\\Users\\Admin\\AppData\\Roaming\\nltk_data...\n",
      "[nltk_data]    |   Unzipping corpora\\brown.zip.\n",
      "[nltk_data]    | Downloading package brown_tei to\n",
      "[nltk_data]    |     C:\\Users\\Admin\\AppData\\Roaming\\nltk_data...\n",
      "[nltk_data]    |   Unzipping corpora\\brown_tei.zip.\n",
      "[nltk_data]    | Downloading package cess_cat to\n",
      "[nltk_data]    |     C:\\Users\\Admin\\AppData\\Roaming\\nltk_data...\n",
      "[nltk_data]    |   Unzipping corpora\\cess_cat.zip.\n",
      "[nltk_data]    | Downloading package cess_esp to\n",
      "[nltk_data]    |     C:\\Users\\Admin\\AppData\\Roaming\\nltk_data...\n",
      "[nltk_data]    |   Unzipping corpora\\cess_esp.zip.\n",
      "[nltk_data]    | Downloading package chat80 to\n",
      "[nltk_data]    |     C:\\Users\\Admin\\AppData\\Roaming\\nltk_data...\n",
      "[nltk_data]    |   Unzipping corpora\\chat80.zip.\n",
      "[nltk_data]    | Downloading package city_database to\n",
      "[nltk_data]    |     C:\\Users\\Admin\\AppData\\Roaming\\nltk_data...\n",
      "[nltk_data]    |   Unzipping corpora\\city_database.zip.\n",
      "[nltk_data]    | Downloading package cmudict to\n",
      "[nltk_data]    |     C:\\Users\\Admin\\AppData\\Roaming\\nltk_data...\n",
      "[nltk_data]    |   Unzipping corpora\\cmudict.zip.\n",
      "[nltk_data]    | Downloading package comparative_sentences to\n",
      "[nltk_data]    |     C:\\Users\\Admin\\AppData\\Roaming\\nltk_data...\n",
      "[nltk_data]    |   Unzipping corpora\\comparative_sentences.zip.\n",
      "[nltk_data]    | Downloading package comtrans to\n",
      "[nltk_data]    |     C:\\Users\\Admin\\AppData\\Roaming\\nltk_data...\n",
      "[nltk_data]    | Downloading package conll2000 to\n",
      "[nltk_data]    |     C:\\Users\\Admin\\AppData\\Roaming\\nltk_data...\n",
      "[nltk_data]    |   Unzipping corpora\\conll2000.zip.\n",
      "[nltk_data]    | Downloading package conll2002 to\n",
      "[nltk_data]    |     C:\\Users\\Admin\\AppData\\Roaming\\nltk_data...\n",
      "[nltk_data]    |   Unzipping corpora\\conll2002.zip.\n",
      "[nltk_data]    | Downloading package conll2007 to\n",
      "[nltk_data]    |     C:\\Users\\Admin\\AppData\\Roaming\\nltk_data...\n",
      "[nltk_data]    | Downloading package crubadan to\n",
      "[nltk_data]    |     C:\\Users\\Admin\\AppData\\Roaming\\nltk_data...\n",
      "[nltk_data]    |   Unzipping corpora\\crubadan.zip.\n",
      "[nltk_data]    | Downloading package dependency_treebank to\n",
      "[nltk_data]    |     C:\\Users\\Admin\\AppData\\Roaming\\nltk_data...\n",
      "[nltk_data]    |   Unzipping corpora\\dependency_treebank.zip.\n",
      "[nltk_data]    | Downloading package dolch to\n",
      "[nltk_data]    |     C:\\Users\\Admin\\AppData\\Roaming\\nltk_data...\n",
      "[nltk_data]    |   Unzipping corpora\\dolch.zip.\n",
      "[nltk_data]    | Downloading package english_wordnet to\n",
      "[nltk_data]    |     C:\\Users\\Admin\\AppData\\Roaming\\nltk_data...\n",
      "[nltk_data]    |   Unzipping corpora\\english_wordnet.zip.\n",
      "[nltk_data]    | Downloading package europarl_raw to\n",
      "[nltk_data]    |     C:\\Users\\Admin\\AppData\\Roaming\\nltk_data...\n",
      "[nltk_data]    |   Unzipping corpora\\europarl_raw.zip.\n",
      "[nltk_data]    | Downloading package extended_omw to\n",
      "[nltk_data]    |     C:\\Users\\Admin\\AppData\\Roaming\\nltk_data...\n",
      "[nltk_data]    | Downloading package floresta to\n",
      "[nltk_data]    |     C:\\Users\\Admin\\AppData\\Roaming\\nltk_data...\n",
      "[nltk_data]    |   Unzipping corpora\\floresta.zip.\n",
      "[nltk_data]    | Downloading package framenet_v15 to\n",
      "[nltk_data]    |     C:\\Users\\Admin\\AppData\\Roaming\\nltk_data...\n",
      "[nltk_data]    |   Unzipping corpora\\framenet_v15.zip.\n",
      "[nltk_data]    | Downloading package framenet_v17 to\n",
      "[nltk_data]    |     C:\\Users\\Admin\\AppData\\Roaming\\nltk_data...\n",
      "[nltk_data]    |   Unzipping corpora\\framenet_v17.zip.\n",
      "[nltk_data]    | Downloading package gazetteers to\n",
      "[nltk_data]    |     C:\\Users\\Admin\\AppData\\Roaming\\nltk_data...\n",
      "[nltk_data]    |   Unzipping corpora\\gazetteers.zip.\n",
      "[nltk_data]    | Downloading package genesis to\n",
      "[nltk_data]    |     C:\\Users\\Admin\\AppData\\Roaming\\nltk_data...\n",
      "[nltk_data]    |   Unzipping corpora\\genesis.zip.\n",
      "[nltk_data]    | Downloading package gutenberg to\n",
      "[nltk_data]    |     C:\\Users\\Admin\\AppData\\Roaming\\nltk_data...\n",
      "[nltk_data]    |   Unzipping corpora\\gutenberg.zip.\n",
      "[nltk_data]    | Downloading package ieer to\n",
      "[nltk_data]    |     C:\\Users\\Admin\\AppData\\Roaming\\nltk_data...\n",
      "[nltk_data]    |   Unzipping corpora\\ieer.zip.\n",
      "[nltk_data]    | Downloading package inaugural to\n",
      "[nltk_data]    |     C:\\Users\\Admin\\AppData\\Roaming\\nltk_data...\n",
      "[nltk_data]    |   Unzipping corpora\\inaugural.zip.\n",
      "[nltk_data]    | Downloading package indian to\n",
      "[nltk_data]    |     C:\\Users\\Admin\\AppData\\Roaming\\nltk_data...\n",
      "[nltk_data]    |   Unzipping corpora\\indian.zip.\n",
      "[nltk_data]    | Downloading package jeita to\n",
      "[nltk_data]    |     C:\\Users\\Admin\\AppData\\Roaming\\nltk_data...\n",
      "[nltk_data]    | Downloading package kimmo to\n",
      "[nltk_data]    |     C:\\Users\\Admin\\AppData\\Roaming\\nltk_data...\n",
      "[nltk_data]    |   Unzipping corpora\\kimmo.zip.\n",
      "[nltk_data]    | Downloading package knbc to\n",
      "[nltk_data]    |     C:\\Users\\Admin\\AppData\\Roaming\\nltk_data...\n",
      "[nltk_data]    | Downloading package large_grammars to\n",
      "[nltk_data]    |     C:\\Users\\Admin\\AppData\\Roaming\\nltk_data...\n",
      "[nltk_data]    |   Unzipping grammars\\large_grammars.zip.\n",
      "[nltk_data]    | Downloading package lin_thesaurus to\n",
      "[nltk_data]    |     C:\\Users\\Admin\\AppData\\Roaming\\nltk_data...\n",
      "[nltk_data]    |   Unzipping corpora\\lin_thesaurus.zip.\n",
      "[nltk_data]    | Downloading package mac_morpho to\n",
      "[nltk_data]    |     C:\\Users\\Admin\\AppData\\Roaming\\nltk_data...\n",
      "[nltk_data]    |   Unzipping corpora\\mac_morpho.zip.\n",
      "[nltk_data]    | Downloading package machado to\n",
      "[nltk_data]    |     C:\\Users\\Admin\\AppData\\Roaming\\nltk_data...\n",
      "[nltk_data]    | Downloading package masc_tagged to\n",
      "[nltk_data]    |     C:\\Users\\Admin\\AppData\\Roaming\\nltk_data...\n",
      "[nltk_data]    | Downloading package maxent_ne_chunker to\n",
      "[nltk_data]    |     C:\\Users\\Admin\\AppData\\Roaming\\nltk_data...\n",
      "[nltk_data]    |   Unzipping chunkers\\maxent_ne_chunker.zip.\n",
      "[nltk_data]    | Downloading package maxent_ne_chunker_tab to\n",
      "[nltk_data]    |     C:\\Users\\Admin\\AppData\\Roaming\\nltk_data...\n",
      "[nltk_data]    |   Unzipping chunkers\\maxent_ne_chunker_tab.zip.\n",
      "[nltk_data]    | Downloading package maxent_treebank_pos_tagger to\n",
      "[nltk_data]    |     C:\\Users\\Admin\\AppData\\Roaming\\nltk_data...\n",
      "[nltk_data]    |   Unzipping taggers\\maxent_treebank_pos_tagger.zip.\n",
      "[nltk_data]    | Downloading package maxent_treebank_pos_tagger_tab to\n",
      "[nltk_data]    |     C:\\Users\\Admin\\AppData\\Roaming\\nltk_data...\n",
      "[nltk_data]    |   Unzipping\n",
      "[nltk_data]    |       taggers\\maxent_treebank_pos_tagger_tab.zip.\n",
      "[nltk_data]    | Downloading package moses_sample to\n",
      "[nltk_data]    |     C:\\Users\\Admin\\AppData\\Roaming\\nltk_data...\n",
      "[nltk_data]    |   Unzipping models\\moses_sample.zip.\n",
      "[nltk_data]    | Downloading package movie_reviews to\n",
      "[nltk_data]    |     C:\\Users\\Admin\\AppData\\Roaming\\nltk_data...\n",
      "[nltk_data]    |   Unzipping corpora\\movie_reviews.zip.\n",
      "[nltk_data]    | Downloading package mte_teip5 to\n",
      "[nltk_data]    |     C:\\Users\\Admin\\AppData\\Roaming\\nltk_data...\n",
      "[nltk_data]    |   Unzipping corpora\\mte_teip5.zip.\n",
      "[nltk_data]    | Downloading package mwa_ppdb to\n",
      "[nltk_data]    |     C:\\Users\\Admin\\AppData\\Roaming\\nltk_data...\n",
      "[nltk_data]    |   Unzipping misc\\mwa_ppdb.zip.\n",
      "[nltk_data]    | Downloading package names to\n",
      "[nltk_data]    |     C:\\Users\\Admin\\AppData\\Roaming\\nltk_data...\n",
      "[nltk_data]    |   Unzipping corpora\\names.zip.\n",
      "[nltk_data]    | Downloading package nombank.1.0 to\n",
      "[nltk_data]    |     C:\\Users\\Admin\\AppData\\Roaming\\nltk_data...\n",
      "[nltk_data]    | Downloading package nonbreaking_prefixes to\n",
      "[nltk_data]    |     C:\\Users\\Admin\\AppData\\Roaming\\nltk_data...\n",
      "[nltk_data]    |   Unzipping corpora\\nonbreaking_prefixes.zip.\n",
      "[nltk_data]    | Downloading package nps_chat to\n",
      "[nltk_data]    |     C:\\Users\\Admin\\AppData\\Roaming\\nltk_data...\n",
      "[nltk_data]    |   Unzipping corpora\\nps_chat.zip.\n",
      "[nltk_data]    | Downloading package omw to\n",
      "[nltk_data]    |     C:\\Users\\Admin\\AppData\\Roaming\\nltk_data...\n",
      "[nltk_data]    | Downloading package omw-1.4 to\n",
      "[nltk_data]    |     C:\\Users\\Admin\\AppData\\Roaming\\nltk_data...\n",
      "[nltk_data]    | Downloading package opinion_lexicon to\n",
      "[nltk_data]    |     C:\\Users\\Admin\\AppData\\Roaming\\nltk_data...\n",
      "[nltk_data]    |   Unzipping corpora\\opinion_lexicon.zip.\n",
      "[nltk_data]    | Downloading package panlex_swadesh to\n",
      "[nltk_data]    |     C:\\Users\\Admin\\AppData\\Roaming\\nltk_data...\n",
      "[nltk_data]    | Downloading package paradigms to\n",
      "[nltk_data]    |     C:\\Users\\Admin\\AppData\\Roaming\\nltk_data...\n",
      "[nltk_data]    |   Unzipping corpora\\paradigms.zip.\n",
      "[nltk_data]    | Downloading package pe08 to\n",
      "[nltk_data]    |     C:\\Users\\Admin\\AppData\\Roaming\\nltk_data...\n",
      "[nltk_data]    |   Unzipping corpora\\pe08.zip.\n",
      "[nltk_data]    | Downloading package perluniprops to\n",
      "[nltk_data]    |     C:\\Users\\Admin\\AppData\\Roaming\\nltk_data...\n",
      "[nltk_data]    |   Unzipping misc\\perluniprops.zip.\n",
      "[nltk_data]    | Downloading package pil to\n",
      "[nltk_data]    |     C:\\Users\\Admin\\AppData\\Roaming\\nltk_data...\n",
      "[nltk_data]    |   Unzipping corpora\\pil.zip.\n",
      "[nltk_data]    | Downloading package pl196x to\n",
      "[nltk_data]    |     C:\\Users\\Admin\\AppData\\Roaming\\nltk_data...\n",
      "[nltk_data]    |   Unzipping corpora\\pl196x.zip.\n",
      "[nltk_data]    | Downloading package porter_test to\n",
      "[nltk_data]    |     C:\\Users\\Admin\\AppData\\Roaming\\nltk_data...\n",
      "[nltk_data]    |   Unzipping stemmers\\porter_test.zip.\n",
      "[nltk_data]    | Downloading package ppattach to\n",
      "[nltk_data]    |     C:\\Users\\Admin\\AppData\\Roaming\\nltk_data...\n",
      "[nltk_data]    |   Unzipping corpora\\ppattach.zip.\n",
      "[nltk_data]    | Downloading package problem_reports to\n",
      "[nltk_data]    |     C:\\Users\\Admin\\AppData\\Roaming\\nltk_data...\n",
      "[nltk_data]    |   Unzipping corpora\\problem_reports.zip.\n",
      "[nltk_data]    | Downloading package product_reviews_1 to\n",
      "[nltk_data]    |     C:\\Users\\Admin\\AppData\\Roaming\\nltk_data...\n",
      "[nltk_data]    |   Unzipping corpora\\product_reviews_1.zip.\n",
      "[nltk_data]    | Downloading package product_reviews_2 to\n",
      "[nltk_data]    |     C:\\Users\\Admin\\AppData\\Roaming\\nltk_data...\n",
      "[nltk_data]    |   Unzipping corpora\\product_reviews_2.zip.\n",
      "[nltk_data]    | Downloading package propbank to\n",
      "[nltk_data]    |     C:\\Users\\Admin\\AppData\\Roaming\\nltk_data...\n",
      "[nltk_data]    | Downloading package pros_cons to\n",
      "[nltk_data]    |     C:\\Users\\Admin\\AppData\\Roaming\\nltk_data...\n",
      "[nltk_data]    |   Unzipping corpora\\pros_cons.zip.\n",
      "[nltk_data]    | Downloading package ptb to\n",
      "[nltk_data]    |     C:\\Users\\Admin\\AppData\\Roaming\\nltk_data...\n",
      "[nltk_data]    |   Unzipping corpora\\ptb.zip.\n",
      "[nltk_data]    | Downloading package punkt to\n",
      "[nltk_data]    |     C:\\Users\\Admin\\AppData\\Roaming\\nltk_data...\n",
      "[nltk_data]    |   Unzipping tokenizers\\punkt.zip.\n",
      "[nltk_data]    | Downloading package punkt_tab to\n",
      "[nltk_data]    |     C:\\Users\\Admin\\AppData\\Roaming\\nltk_data...\n",
      "[nltk_data]    |   Unzipping tokenizers\\punkt_tab.zip.\n",
      "[nltk_data]    | Downloading package qc to\n",
      "[nltk_data]    |     C:\\Users\\Admin\\AppData\\Roaming\\nltk_data...\n",
      "[nltk_data]    |   Unzipping corpora\\qc.zip.\n",
      "[nltk_data]    | Downloading package reuters to\n",
      "[nltk_data]    |     C:\\Users\\Admin\\AppData\\Roaming\\nltk_data...\n",
      "[nltk_data]    | Downloading package rslp to\n",
      "[nltk_data]    |     C:\\Users\\Admin\\AppData\\Roaming\\nltk_data...\n",
      "[nltk_data]    |   Unzipping stemmers\\rslp.zip.\n",
      "[nltk_data]    | Downloading package rte to\n",
      "[nltk_data]    |     C:\\Users\\Admin\\AppData\\Roaming\\nltk_data...\n",
      "[nltk_data]    |   Unzipping corpora\\rte.zip.\n",
      "[nltk_data]    | Downloading package sample_grammars to\n",
      "[nltk_data]    |     C:\\Users\\Admin\\AppData\\Roaming\\nltk_data...\n",
      "[nltk_data]    |   Unzipping grammars\\sample_grammars.zip.\n",
      "[nltk_data]    | Downloading package semcor to\n",
      "[nltk_data]    |     C:\\Users\\Admin\\AppData\\Roaming\\nltk_data...\n",
      "[nltk_data]    | Downloading package senseval to\n",
      "[nltk_data]    |     C:\\Users\\Admin\\AppData\\Roaming\\nltk_data...\n",
      "[nltk_data]    |   Unzipping corpora\\senseval.zip.\n",
      "[nltk_data]    | Downloading package sentence_polarity to\n",
      "[nltk_data]    |     C:\\Users\\Admin\\AppData\\Roaming\\nltk_data...\n",
      "[nltk_data]    |   Unzipping corpora\\sentence_polarity.zip.\n",
      "[nltk_data]    | Downloading package sentiwordnet to\n",
      "[nltk_data]    |     C:\\Users\\Admin\\AppData\\Roaming\\nltk_data...\n",
      "[nltk_data]    |   Unzipping corpora\\sentiwordnet.zip.\n",
      "[nltk_data]    | Downloading package shakespeare to\n",
      "[nltk_data]    |     C:\\Users\\Admin\\AppData\\Roaming\\nltk_data...\n",
      "[nltk_data]    |   Unzipping corpora\\shakespeare.zip.\n",
      "[nltk_data]    | Downloading package sinica_treebank to\n",
      "[nltk_data]    |     C:\\Users\\Admin\\AppData\\Roaming\\nltk_data...\n",
      "[nltk_data]    |   Unzipping corpora\\sinica_treebank.zip.\n",
      "[nltk_data]    | Downloading package smultron to\n",
      "[nltk_data]    |     C:\\Users\\Admin\\AppData\\Roaming\\nltk_data...\n",
      "[nltk_data]    |   Unzipping corpora\\smultron.zip.\n",
      "[nltk_data]    | Downloading package snowball_data to\n",
      "[nltk_data]    |     C:\\Users\\Admin\\AppData\\Roaming\\nltk_data...\n",
      "[nltk_data]    | Downloading package spanish_grammars to\n",
      "[nltk_data]    |     C:\\Users\\Admin\\AppData\\Roaming\\nltk_data...\n",
      "[nltk_data]    |   Unzipping grammars\\spanish_grammars.zip.\n",
      "[nltk_data]    | Downloading package state_union to\n",
      "[nltk_data]    |     C:\\Users\\Admin\\AppData\\Roaming\\nltk_data...\n",
      "[nltk_data]    |   Unzipping corpora\\state_union.zip.\n",
      "[nltk_data]    | Downloading package stopwords to\n",
      "[nltk_data]    |     C:\\Users\\Admin\\AppData\\Roaming\\nltk_data...\n",
      "[nltk_data]    |   Unzipping corpora\\stopwords.zip.\n",
      "[nltk_data]    | Downloading package subjectivity to\n",
      "[nltk_data]    |     C:\\Users\\Admin\\AppData\\Roaming\\nltk_data...\n",
      "[nltk_data]    |   Unzipping corpora\\subjectivity.zip.\n",
      "[nltk_data]    | Downloading package swadesh to\n",
      "[nltk_data]    |     C:\\Users\\Admin\\AppData\\Roaming\\nltk_data...\n",
      "[nltk_data]    |   Unzipping corpora\\swadesh.zip.\n",
      "[nltk_data]    | Downloading package switchboard to\n",
      "[nltk_data]    |     C:\\Users\\Admin\\AppData\\Roaming\\nltk_data...\n",
      "[nltk_data]    |   Unzipping corpora\\switchboard.zip.\n",
      "[nltk_data]    | Downloading package tagsets to\n",
      "[nltk_data]    |     C:\\Users\\Admin\\AppData\\Roaming\\nltk_data...\n",
      "[nltk_data]    |   Unzipping help\\tagsets.zip.\n",
      "[nltk_data]    | Downloading package tagsets_json to\n",
      "[nltk_data]    |     C:\\Users\\Admin\\AppData\\Roaming\\nltk_data...\n",
      "[nltk_data]    |   Unzipping help\\tagsets_json.zip.\n",
      "[nltk_data]    | Downloading package timit to\n",
      "[nltk_data]    |     C:\\Users\\Admin\\AppData\\Roaming\\nltk_data...\n",
      "[nltk_data]    |   Unzipping corpora\\timit.zip.\n",
      "[nltk_data]    | Downloading package toolbox to\n",
      "[nltk_data]    |     C:\\Users\\Admin\\AppData\\Roaming\\nltk_data...\n",
      "[nltk_data]    |   Unzipping corpora\\toolbox.zip.\n",
      "[nltk_data]    | Downloading package treebank to\n",
      "[nltk_data]    |     C:\\Users\\Admin\\AppData\\Roaming\\nltk_data...\n",
      "[nltk_data]    |   Unzipping corpora\\treebank.zip.\n",
      "[nltk_data]    | Downloading package twitter_samples to\n",
      "[nltk_data]    |     C:\\Users\\Admin\\AppData\\Roaming\\nltk_data...\n",
      "[nltk_data]    |   Unzipping corpora\\twitter_samples.zip.\n",
      "[nltk_data]    | Downloading package udhr to\n",
      "[nltk_data]    |     C:\\Users\\Admin\\AppData\\Roaming\\nltk_data...\n",
      "[nltk_data]    |   Unzipping corpora\\udhr.zip.\n",
      "[nltk_data]    | Downloading package udhr2 to\n",
      "[nltk_data]    |     C:\\Users\\Admin\\AppData\\Roaming\\nltk_data...\n",
      "[nltk_data]    |   Unzipping corpora\\udhr2.zip.\n",
      "[nltk_data]    | Downloading package unicode_samples to\n",
      "[nltk_data]    |     C:\\Users\\Admin\\AppData\\Roaming\\nltk_data...\n",
      "[nltk_data]    |   Unzipping corpora\\unicode_samples.zip.\n",
      "[nltk_data]    | Downloading package universal_tagset to\n",
      "[nltk_data]    |     C:\\Users\\Admin\\AppData\\Roaming\\nltk_data...\n",
      "[nltk_data]    |   Unzipping taggers\\universal_tagset.zip.\n",
      "[nltk_data]    | Downloading package universal_treebanks_v20 to\n",
      "[nltk_data]    |     C:\\Users\\Admin\\AppData\\Roaming\\nltk_data...\n",
      "[nltk_data]    | Downloading package vader_lexicon to\n",
      "[nltk_data]    |     C:\\Users\\Admin\\AppData\\Roaming\\nltk_data...\n",
      "[nltk_data]    | Downloading package verbnet to\n",
      "[nltk_data]    |     C:\\Users\\Admin\\AppData\\Roaming\\nltk_data...\n",
      "[nltk_data]    |   Unzipping corpora\\verbnet.zip.\n",
      "[nltk_data]    | Downloading package verbnet3 to\n",
      "[nltk_data]    |     C:\\Users\\Admin\\AppData\\Roaming\\nltk_data...\n",
      "[nltk_data]    |   Unzipping corpora\\verbnet3.zip.\n",
      "[nltk_data]    | Downloading package webtext to\n",
      "[nltk_data]    |     C:\\Users\\Admin\\AppData\\Roaming\\nltk_data...\n",
      "[nltk_data]    |   Unzipping corpora\\webtext.zip.\n",
      "[nltk_data]    | Downloading package wmt15_eval to\n",
      "[nltk_data]    |     C:\\Users\\Admin\\AppData\\Roaming\\nltk_data...\n",
      "[nltk_data]    |   Unzipping models\\wmt15_eval.zip.\n",
      "[nltk_data]    | Downloading package word2vec_sample to\n",
      "[nltk_data]    |     C:\\Users\\Admin\\AppData\\Roaming\\nltk_data...\n",
      "[nltk_data]    |   Unzipping models\\word2vec_sample.zip.\n",
      "[nltk_data]    | Downloading package wordnet to\n",
      "[nltk_data]    |     C:\\Users\\Admin\\AppData\\Roaming\\nltk_data...\n",
      "[nltk_data]    | Downloading package wordnet2021 to\n",
      "[nltk_data]    |     C:\\Users\\Admin\\AppData\\Roaming\\nltk_data...\n",
      "[nltk_data]    | Downloading package wordnet2022 to\n",
      "[nltk_data]    |     C:\\Users\\Admin\\AppData\\Roaming\\nltk_data...\n",
      "[nltk_data]    |   Unzipping corpora\\wordnet2022.zip.\n",
      "[nltk_data]    | Downloading package wordnet31 to\n",
      "[nltk_data]    |     C:\\Users\\Admin\\AppData\\Roaming\\nltk_data...\n",
      "[nltk_data]    | Downloading package wordnet_ic to\n",
      "[nltk_data]    |     C:\\Users\\Admin\\AppData\\Roaming\\nltk_data...\n",
      "[nltk_data]    |   Unzipping corpora\\wordnet_ic.zip.\n",
      "[nltk_data]    | Downloading package words to\n",
      "[nltk_data]    |     C:\\Users\\Admin\\AppData\\Roaming\\nltk_data...\n",
      "[nltk_data]    |   Unzipping corpora\\words.zip.\n",
      "[nltk_data]    | Downloading package ycoe to\n",
      "[nltk_data]    |     C:\\Users\\Admin\\AppData\\Roaming\\nltk_data...\n",
      "[nltk_data]    |   Unzipping corpora\\ycoe.zip.\n",
      "[nltk_data]    | \n",
      "[nltk_data]  Done downloading collection all\n"
     ]
    },
    {
     "data": {
      "text/plain": [
       "True"
      ]
     },
     "execution_count": 5,
     "metadata": {},
     "output_type": "execute_result"
    }
   ],
   "source": [
    "nltk.download('all')"
   ]
  },
  {
   "cell_type": "code",
   "execution_count": 12,
   "id": "ebac55a8-7236-48ca-a069-cc5cb4ed0f72",
   "metadata": {},
   "outputs": [],
   "source": [
    "#################   READING THE DOCUMENT"
   ]
  },
  {
   "cell_type": "code",
   "execution_count": 8,
   "id": "489fcde6-4955-4898-b193-1a0397fc9515",
   "metadata": {},
   "outputs": [],
   "source": [
    "x = open(\"text.txt\").read()"
   ]
  },
  {
   "cell_type": "code",
   "execution_count": 10,
   "id": "dbdb305a-a775-4435-baf8-02e540944054",
   "metadata": {},
   "outputs": [
    {
     "data": {
      "text/plain": [
       "'In a world increasingly driven by technological advancements, the way we communicate, work, and even think has undergone a profound transformation. Digital platforms have become essential to everyday life, not only as tools of convenience but as integral frameworks through which society functions. \\nFrom cloud computing and artificial intelligence to virtual collaboration tools and social media networks, the pace of innovation shows no signs of slowing. Yet, amid this rapid evolution, concerns around privacy, mental health, and misinformation persist. The balance between embracing progress and preserving human values has become a central topic in global discourse. While automation has made tasks more efficient, it also raises ethical questions about labor, responsibility, and the future role of humans in the workforce. \\nEducation, too, is being reshapedâ€”adaptive learning systems, online classrooms, and digital credentials are redefining how knowledge is acquired and validated. Meanwhile, environmental considerations now play a crucial role in the development of sustainable technologies, pushing industries to rethink production, logistics, and energy consumption. \\nAs societies move forward, a thoughtful approach to technological adoption will be vital to ensure that innovation continues to empower people rather than alienate them, fostering inclusive growth and shared prosperity across all communities.'"
      ]
     },
     "execution_count": 10,
     "metadata": {},
     "output_type": "execute_result"
    }
   ],
   "source": [
    "x"
   ]
  },
  {
   "cell_type": "code",
   "execution_count": 14,
   "id": "9c9dbe24-89ee-4cf0-b1fa-647dda0f3a67",
   "metadata": {},
   "outputs": [],
   "source": [
    "######   TOKENISATION THE DOCUMENT"
   ]
  },
  {
   "cell_type": "code",
   "execution_count": 16,
   "id": "fc235f2e-d5b5-4918-a7b6-d48988cfc104",
   "metadata": {},
   "outputs": [
    {
     "name": "stdout",
     "output_type": "stream",
     "text": [
      "['In', 'a', 'world', 'increasingly', 'driven', 'by', 'technological', 'advancements', ',', 'the', 'way', 'we', 'communicate', ',', 'work', ',', 'and', 'even', 'think', 'has', 'undergone', 'a', 'profound', 'transformation', '.', 'Digital', 'platforms', 'have', 'become', 'essential', 'to', 'everyday', 'life', ',', 'not', 'only', 'as', 'tools', 'of', 'convenience', 'but', 'as', 'integral', 'frameworks', 'through', 'which', 'society', 'functions', '.', 'From', 'cloud', 'computing', 'and', 'artificial', 'intelligence', 'to', 'virtual', 'collaboration', 'tools', 'and', 'social', 'media', 'networks', ',', 'the', 'pace', 'of', 'innovation', 'shows', 'no', 'signs', 'of', 'slowing', '.', 'Yet', ',', 'amid', 'this', 'rapid', 'evolution', ',', 'concerns', 'around', 'privacy', ',', 'mental', 'health', ',', 'and', 'misinformation', 'persist', '.', 'The', 'balance', 'between', 'embracing', 'progress', 'and', 'preserving', 'human', 'values', 'has', 'become', 'a', 'central', 'topic', 'in', 'global', 'discourse', '.', 'While', 'automation', 'has', 'made', 'tasks', 'more', 'efficient', ',', 'it', 'also', 'raises', 'ethical', 'questions', 'about', 'labor', ',', 'responsibility', ',', 'and', 'the', 'future', 'role', 'of', 'humans', 'in', 'the', 'workforce', '.', 'Education', ',', 'too', ',', 'is', 'being', 'reshapedâ€', '”', 'adaptive', 'learning', 'systems', ',', 'online', 'classrooms', ',', 'and', 'digital', 'credentials', 'are', 'redefining', 'how', 'knowledge', 'is', 'acquired', 'and', 'validated', '.', 'Meanwhile', ',', 'environmental', 'considerations', 'now', 'play', 'a', 'crucial', 'role', 'in', 'the', 'development', 'of', 'sustainable', 'technologies', ',', 'pushing', 'industries', 'to', 'rethink', 'production', ',', 'logistics', ',', 'and', 'energy', 'consumption', '.', 'As', 'societies', 'move', 'forward', ',', 'a', 'thoughtful', 'approach', 'to', 'technological', 'adoption', 'will', 'be', 'vital', 'to', 'ensure', 'that', 'innovation', 'continues', 'to', 'empower', 'people', 'rather', 'than', 'alienate', 'them', ',', 'fostering', 'inclusive', 'growth', 'and', 'shared', 'prosperity', 'across', 'all', 'communities', '.']\n"
     ]
    }
   ],
   "source": [
    "tokens = word_tokenize(x)\n",
    "print(tokens)"
   ]
  },
  {
   "cell_type": "code",
   "execution_count": 18,
   "id": "5c4cc4af-3e1d-4c95-bfac-77f45cd4d22c",
   "metadata": {},
   "outputs": [],
   "source": [
    "##################  TAGGING THE TOKENS"
   ]
  },
  {
   "cell_type": "code",
   "execution_count": 22,
   "id": "a5107fc2-d3e8-407d-9da9-2ef172f3407c",
   "metadata": {},
   "outputs": [
    {
     "name": "stdout",
     "output_type": "stream",
     "text": [
      "[('In', 'IN'), ('a', 'DT'), ('world', 'NN'), ('increasingly', 'RB'), ('driven', 'VBN'), ('by', 'IN'), ('technological', 'JJ'), ('advancements', 'NNS'), (',', ','), ('the', 'DT'), ('way', 'NN'), ('we', 'PRP'), ('communicate', 'VBP'), (',', ','), ('work', 'NN'), (',', ','), ('and', 'CC'), ('even', 'RB'), ('think', 'VBP'), ('has', 'VBZ'), ('undergone', 'RB'), ('a', 'DT'), ('profound', 'JJ'), ('transformation', 'NN'), ('.', '.'), ('Digital', 'NNP'), ('platforms', 'NNS'), ('have', 'VBP'), ('become', 'VBN'), ('essential', 'JJ'), ('to', 'TO'), ('everyday', 'JJ'), ('life', 'NN'), (',', ','), ('not', 'RB'), ('only', 'RB'), ('as', 'IN'), ('tools', 'NNS'), ('of', 'IN'), ('convenience', 'NN'), ('but', 'CC'), ('as', 'IN'), ('integral', 'JJ'), ('frameworks', 'NNS'), ('through', 'IN'), ('which', 'WDT'), ('society', 'NN'), ('functions', 'NNS'), ('.', '.'), ('From', 'IN'), ('cloud', 'JJ'), ('computing', 'VBG'), ('and', 'CC'), ('artificial', 'JJ'), ('intelligence', 'NN'), ('to', 'TO'), ('virtual', 'JJ'), ('collaboration', 'NN'), ('tools', 'NNS'), ('and', 'CC'), ('social', 'JJ'), ('media', 'NNS'), ('networks', 'NNS'), (',', ','), ('the', 'DT'), ('pace', 'NN'), ('of', 'IN'), ('innovation', 'NN'), ('shows', 'VBZ'), ('no', 'DT'), ('signs', 'NNS'), ('of', 'IN'), ('slowing', 'VBG'), ('.', '.'), ('Yet', 'CC'), (',', ','), ('amid', 'IN'), ('this', 'DT'), ('rapid', 'JJ'), ('evolution', 'NN'), (',', ','), ('concerns', 'NNS'), ('around', 'IN'), ('privacy', 'NN'), (',', ','), ('mental', 'JJ'), ('health', 'NN'), (',', ','), ('and', 'CC'), ('misinformation', 'NN'), ('persist', 'NN'), ('.', '.'), ('The', 'DT'), ('balance', 'NN'), ('between', 'IN'), ('embracing', 'VBG'), ('progress', 'NN'), ('and', 'CC'), ('preserving', 'VBG'), ('human', 'JJ'), ('values', 'NNS'), ('has', 'VBZ'), ('become', 'VBN'), ('a', 'DT'), ('central', 'JJ'), ('topic', 'NN'), ('in', 'IN'), ('global', 'JJ'), ('discourse', 'NN'), ('.', '.'), ('While', 'IN'), ('automation', 'NN'), ('has', 'VBZ'), ('made', 'VBN'), ('tasks', 'NNS'), ('more', 'RBR'), ('efficient', 'JJ'), (',', ','), ('it', 'PRP'), ('also', 'RB'), ('raises', 'VBZ'), ('ethical', 'JJ'), ('questions', 'NNS'), ('about', 'IN'), ('labor', 'NN'), (',', ','), ('responsibility', 'NN'), (',', ','), ('and', 'CC'), ('the', 'DT'), ('future', 'JJ'), ('role', 'NN'), ('of', 'IN'), ('humans', 'NNS'), ('in', 'IN'), ('the', 'DT'), ('workforce', 'NN'), ('.', '.'), ('Education', 'NN'), (',', ','), ('too', 'RB'), (',', ','), ('is', 'VBZ'), ('being', 'VBG'), ('reshapedâ€', 'JJ'), ('”', 'NNP'), ('adaptive', 'JJ'), ('learning', 'VBG'), ('systems', 'NNS'), (',', ','), ('online', 'JJ'), ('classrooms', 'NNS'), (',', ','), ('and', 'CC'), ('digital', 'JJ'), ('credentials', 'NNS'), ('are', 'VBP'), ('redefining', 'VBG'), ('how', 'WRB'), ('knowledge', 'NN'), ('is', 'VBZ'), ('acquired', 'VBN'), ('and', 'CC'), ('validated', 'VBN'), ('.', '.'), ('Meanwhile', 'RB'), (',', ','), ('environmental', 'JJ'), ('considerations', 'NNS'), ('now', 'RB'), ('play', 'VBP'), ('a', 'DT'), ('crucial', 'JJ'), ('role', 'NN'), ('in', 'IN'), ('the', 'DT'), ('development', 'NN'), ('of', 'IN'), ('sustainable', 'JJ'), ('technologies', 'NNS'), (',', ','), ('pushing', 'VBG'), ('industries', 'NNS'), ('to', 'TO'), ('rethink', 'VB'), ('production', 'NN'), (',', ','), ('logistics', 'NNS'), (',', ','), ('and', 'CC'), ('energy', 'NN'), ('consumption', 'NN'), ('.', '.'), ('As', 'IN'), ('societies', 'NNS'), ('move', 'VBP'), ('forward', 'RB'), (',', ','), ('a', 'DT'), ('thoughtful', 'JJ'), ('approach', 'NN'), ('to', 'TO'), ('technological', 'JJ'), ('adoption', 'NN'), ('will', 'MD'), ('be', 'VB'), ('vital', 'JJ'), ('to', 'TO'), ('ensure', 'VB'), ('that', 'DT'), ('innovation', 'NN'), ('continues', 'VBZ'), ('to', 'TO'), ('empower', 'VB'), ('people', 'NNS'), ('rather', 'RB'), ('than', 'IN'), ('alienate', 'VB'), ('them', 'PRP'), (',', ','), ('fostering', 'VBG'), ('inclusive', 'JJ'), ('growth', 'NN'), ('and', 'CC'), ('shared', 'VBN'), ('prosperity', 'NN'), ('across', 'IN'), ('all', 'DT'), ('communities', 'NNS'), ('.', '.')]\n"
     ]
    }
   ],
   "source": [
    "postags = pos_tag(tokens)\n",
    "print(postags)"
   ]
  },
  {
   "cell_type": "code",
   "execution_count": 24,
   "id": "cd235e62-97ae-48ae-a678-28b3a75d305e",
   "metadata": {},
   "outputs": [],
   "source": [
    "######   FINDING AND DISPLAYING THE STOP WORDS"
   ]
  },
  {
   "cell_type": "code",
   "execution_count": 28,
   "id": "cab5ed53-0de8-46f1-918f-f27740773bc7",
   "metadata": {},
   "outputs": [
    {
     "name": "stdout",
     "output_type": "stream",
     "text": [
      "{\"didn't\", 'each', 'are', 'now', 'yourselves', \"needn't\", 'any', \"haven't\", 'such', 'which', 'or', 's', 've', \"it's\", 'do', 'during', 'under', 'weren', 'am', 'down', 'herself', 'on', 'was', 'theirs', 'all', \"that'll\", \"should've\", 'mustn', 'off', 'had', \"she'll\", \"we'd\", 'be', \"he'd\", \"i'd\", 'some', 'no', 'it', 'by', 'other', 'who', 'with', 'just', 'themselves', 'an', 'in', 'too', \"shan't\", \"they'll\", 'is', 'but', 'of', \"she's\", 'for', 'what', \"weren't\", 'wasn', 'and', 'more', 'between', 'having', \"you'll\", 'at', 'both', \"doesn't\", 'doing', 'couldn', 'while', 'its', 're', 'yours', 'against', 'because', 'ma', 'up', 'doesn', \"i've\", 'mightn', 'your', 'where', 'if', 'does', 'when', \"i'll\", \"it'd\", 'only', 'should', \"he'll\", \"don't\", \"he's\", 'there', 'wouldn', 'again', 'll', 'their', 'nor', 'into', 'few', 'whom', \"you've\", \"she'd\", 'can', 'as', \"hasn't\", 'needn', 'shan', 'you', 'my', 'isn', 'didn', \"mightn't\", \"mustn't\", 'why', 'itself', 'after', 'her', 'then', 'about', 't', \"i'm\", 'm', 'very', 'hasn', 'the', 'here', 'through', 'same', 'this', 'to', 'd', 'most', 'how', 'our', 'those', 'further', 'from', \"isn't\", 'ourselves', \"we're\", 'have', 'shouldn', 'we', 'own', 'than', 'they', 'has', 'his', 'a', \"aren't\", \"they're\", \"we've\", 'myself', 'them', \"couldn't\", 'o', 'him', 'hadn', \"it'll\", 'himself', 'y', \"they've\", 'i', 'me', 'don', \"shouldn't\", \"won't\", \"wasn't\", 'these', 'he', 'aren', 'she', 'ain', 'haven', \"you'd\", \"you're\", 'been', \"hadn't\", 'were', 'so', 'over', 'below', \"wouldn't\", 'out', 'hers', 'being', \"we'll\", 'did', 'not', 'once', 'ours', 'above', 'yourself', 'before', \"they'd\", 'that', 'won', 'will', 'until'}\n"
     ]
    }
   ],
   "source": [
    "stop_words = set(stopwords.words('english'))\n",
    "print(stop_words)"
   ]
  },
  {
   "cell_type": "code",
   "execution_count": 32,
   "id": "7a76fcc5-51ba-4d41-8a3d-8d1cc16ff9b6",
   "metadata": {},
   "outputs": [],
   "source": [
    "################3  REMOVING STOP WORDS AND APPEND THE LIST"
   ]
  },
  {
   "cell_type": "code",
   "execution_count": 34,
   "id": "b47f3162-855b-4cea-b88d-533dc4188ce3",
   "metadata": {},
   "outputs": [
    {
     "name": "stdout",
     "output_type": "stream",
     "text": [
      "['In', 'world', 'increasingly', 'driven', 'technological', 'advancements', ',', 'way', 'communicate', ',', 'work', ',', 'even', 'think', 'undergone', 'profound', 'transformation', '.', 'Digital', 'platforms', 'become', 'essential', 'everyday', 'life', ',', 'tools', 'convenience', 'integral', 'frameworks', 'society', 'functions', '.', 'From', 'cloud', 'computing', 'artificial', 'intelligence', 'virtual', 'collaboration', 'tools', 'social', 'media', 'networks', ',', 'pace', 'innovation', 'shows', 'signs', 'slowing', '.', 'Yet', ',', 'amid', 'rapid', 'evolution', ',', 'concerns', 'around', 'privacy', ',', 'mental', 'health', ',', 'misinformation', 'persist', '.', 'The', 'balance', 'embracing', 'progress', 'preserving', 'human', 'values', 'become', 'central', 'topic', 'global', 'discourse', '.', 'While', 'automation', 'made', 'tasks', 'efficient', ',', 'also', 'raises', 'ethical', 'questions', 'labor', ',', 'responsibility', ',', 'future', 'role', 'humans', 'workforce', '.', 'Education', ',', ',', 'reshapedâ€', '”', 'adaptive', 'learning', 'systems', ',', 'online', 'classrooms', ',', 'digital', 'credentials', 'redefining', 'knowledge', 'acquired', 'validated', '.', 'Meanwhile', ',', 'environmental', 'considerations', 'play', 'crucial', 'role', 'development', 'sustainable', 'technologies', ',', 'pushing', 'industries', 'rethink', 'production', ',', 'logistics', ',', 'energy', 'consumption', '.', 'As', 'societies', 'move', 'forward', ',', 'thoughtful', 'approach', 'technological', 'adoption', 'vital', 'ensure', 'innovation', 'continues', 'empower', 'people', 'rather', 'alienate', ',', 'fostering', 'inclusive', 'growth', 'shared', 'prosperity', 'across', 'communities', '.']\n"
     ]
    }
   ],
   "source": [
    "list = []\n",
    "for words in tokens:\n",
    "    if words not in stop_words:\n",
    "        list.append(words)\n",
    "print(list)"
   ]
  },
  {
   "cell_type": "code",
   "execution_count": 36,
   "id": "91556c10-3076-40e8-bf0d-60ff42dae9fa",
   "metadata": {},
   "outputs": [],
   "source": [
    "######## STEMMING THE ORIGINAL WORDS"
   ]
  },
  {
   "cell_type": "code",
   "execution_count": 40,
   "id": "3c9db97c-bff5-4636-9150-997986400225",
   "metadata": {},
   "outputs": [
    {
     "name": "stdout",
     "output_type": "stream",
     "text": [
      "[['In', 'in'], ['world', 'world'], ['increasingly', 'increasingli'], ['driven', 'driven'], ['technological', 'technolog'], ['advancements', 'advanc'], [',', ','], ['way', 'way'], ['communicate', 'commun'], [',', ','], ['work', 'work'], [',', ','], ['even', 'even'], ['think', 'think'], ['undergone', 'undergon'], ['profound', 'profound'], ['transformation', 'transform'], ['.', '.'], ['Digital', 'digit'], ['platforms', 'platform'], ['become', 'becom'], ['essential', 'essenti'], ['everyday', 'everyday'], ['life', 'life'], [',', ','], ['tools', 'tool'], ['convenience', 'conveni'], ['integral', 'integr'], ['frameworks', 'framework'], ['society', 'societi'], ['functions', 'function'], ['.', '.'], ['From', 'from'], ['cloud', 'cloud'], ['computing', 'comput'], ['artificial', 'artifici'], ['intelligence', 'intellig'], ['virtual', 'virtual'], ['collaboration', 'collabor'], ['tools', 'tool'], ['social', 'social'], ['media', 'media'], ['networks', 'network'], [',', ','], ['pace', 'pace'], ['innovation', 'innov'], ['shows', 'show'], ['signs', 'sign'], ['slowing', 'slow'], ['.', '.'], ['Yet', 'yet'], [',', ','], ['amid', 'amid'], ['rapid', 'rapid'], ['evolution', 'evolut'], [',', ','], ['concerns', 'concern'], ['around', 'around'], ['privacy', 'privaci'], [',', ','], ['mental', 'mental'], ['health', 'health'], [',', ','], ['misinformation', 'misinform'], ['persist', 'persist'], ['.', '.'], ['The', 'the'], ['balance', 'balanc'], ['embracing', 'embrac'], ['progress', 'progress'], ['preserving', 'preserv'], ['human', 'human'], ['values', 'valu'], ['become', 'becom'], ['central', 'central'], ['topic', 'topic'], ['global', 'global'], ['discourse', 'discours'], ['.', '.'], ['While', 'while'], ['automation', 'autom'], ['made', 'made'], ['tasks', 'task'], ['efficient', 'effici'], [',', ','], ['also', 'also'], ['raises', 'rais'], ['ethical', 'ethic'], ['questions', 'question'], ['labor', 'labor'], [',', ','], ['responsibility', 'respons'], [',', ','], ['future', 'futur'], ['role', 'role'], ['humans', 'human'], ['workforce', 'workforc'], ['.', '.'], ['Education', 'educ'], [',', ','], [',', ','], ['reshapedâ€', 'reshapedâ€'], ['”', '”'], ['adaptive', 'adapt'], ['learning', 'learn'], ['systems', 'system'], [',', ','], ['online', 'onlin'], ['classrooms', 'classroom'], [',', ','], ['digital', 'digit'], ['credentials', 'credenti'], ['redefining', 'redefin'], ['knowledge', 'knowledg'], ['acquired', 'acquir'], ['validated', 'valid'], ['.', '.'], ['Meanwhile', 'meanwhil'], [',', ','], ['environmental', 'environment'], ['considerations', 'consider'], ['play', 'play'], ['crucial', 'crucial'], ['role', 'role'], ['development', 'develop'], ['sustainable', 'sustain'], ['technologies', 'technolog'], [',', ','], ['pushing', 'push'], ['industries', 'industri'], ['rethink', 'rethink'], ['production', 'product'], [',', ','], ['logistics', 'logist'], [',', ','], ['energy', 'energi'], ['consumption', 'consumpt'], ['.', '.'], ['As', 'as'], ['societies', 'societi'], ['move', 'move'], ['forward', 'forward'], [',', ','], ['thoughtful', 'thought'], ['approach', 'approach'], ['technological', 'technolog'], ['adoption', 'adopt'], ['vital', 'vital'], ['ensure', 'ensur'], ['innovation', 'innov'], ['continues', 'continu'], ['empower', 'empow'], ['people', 'peopl'], ['rather', 'rather'], ['alienate', 'alien'], [',', ','], ['fostering', 'foster'], ['inclusive', 'inclus'], ['growth', 'growth'], ['shared', 'share'], ['prosperity', 'prosper'], ['across', 'across'], ['communities', 'commun'], ['.', '.']]\n"
     ]
    }
   ],
   "source": [
    "ps = PorterStemmer()\n",
    "stemlist = []\n",
    "for words in list:\n",
    "    stemlist.append([words, ps.stem(words)])\n",
    "print(stemlist)"
   ]
  },
  {
   "cell_type": "code",
   "execution_count": 42,
   "id": "534cb2e4-d615-4629-aa67-76ef862d5f00",
   "metadata": {},
   "outputs": [],
   "source": [
    "#########   LEMMATIZING THE EXTRACTED WORDS"
   ]
  },
  {
   "cell_type": "code",
   "execution_count": 44,
   "id": "68c261e3-c574-44d3-ab2e-345a920fa41d",
   "metadata": {},
   "outputs": [
    {
     "name": "stdout",
     "output_type": "stream",
     "text": [
      "[['In', 'In'], ['world', 'world'], ['increasingly', 'increasingly'], ['driven', 'driven'], ['technological', 'technological'], ['advancements', 'advancement'], [',', ','], ['way', 'way'], ['communicate', 'communicate'], [',', ','], ['work', 'work'], [',', ','], ['even', 'even'], ['think', 'think'], ['undergone', 'undergone'], ['profound', 'profound'], ['transformation', 'transformation'], ['.', '.'], ['Digital', 'Digital'], ['platforms', 'platform'], ['become', 'become'], ['essential', 'essential'], ['everyday', 'everyday'], ['life', 'life'], [',', ','], ['tools', 'tool'], ['convenience', 'convenience'], ['integral', 'integral'], ['frameworks', 'framework'], ['society', 'society'], ['functions', 'function'], ['.', '.'], ['From', 'From'], ['cloud', 'cloud'], ['computing', 'computing'], ['artificial', 'artificial'], ['intelligence', 'intelligence'], ['virtual', 'virtual'], ['collaboration', 'collaboration'], ['tools', 'tool'], ['social', 'social'], ['media', 'medium'], ['networks', 'network'], [',', ','], ['pace', 'pace'], ['innovation', 'innovation'], ['shows', 'show'], ['signs', 'sign'], ['slowing', 'slowing'], ['.', '.'], ['Yet', 'Yet'], [',', ','], ['amid', 'amid'], ['rapid', 'rapid'], ['evolution', 'evolution'], [',', ','], ['concerns', 'concern'], ['around', 'around'], ['privacy', 'privacy'], [',', ','], ['mental', 'mental'], ['health', 'health'], [',', ','], ['misinformation', 'misinformation'], ['persist', 'persist'], ['.', '.'], ['The', 'The'], ['balance', 'balance'], ['embracing', 'embracing'], ['progress', 'progress'], ['preserving', 'preserving'], ['human', 'human'], ['values', 'value'], ['become', 'become'], ['central', 'central'], ['topic', 'topic'], ['global', 'global'], ['discourse', 'discourse'], ['.', '.'], ['While', 'While'], ['automation', 'automation'], ['made', 'made'], ['tasks', 'task'], ['efficient', 'efficient'], [',', ','], ['also', 'also'], ['raises', 'raise'], ['ethical', 'ethical'], ['questions', 'question'], ['labor', 'labor'], [',', ','], ['responsibility', 'responsibility'], [',', ','], ['future', 'future'], ['role', 'role'], ['humans', 'human'], ['workforce', 'workforce'], ['.', '.'], ['Education', 'Education'], [',', ','], [',', ','], ['reshapedâ€', 'reshapedâ€'], ['”', '”'], ['adaptive', 'adaptive'], ['learning', 'learning'], ['systems', 'system'], [',', ','], ['online', 'online'], ['classrooms', 'classroom'], [',', ','], ['digital', 'digital'], ['credentials', 'credential'], ['redefining', 'redefining'], ['knowledge', 'knowledge'], ['acquired', 'acquired'], ['validated', 'validated'], ['.', '.'], ['Meanwhile', 'Meanwhile'], [',', ','], ['environmental', 'environmental'], ['considerations', 'consideration'], ['play', 'play'], ['crucial', 'crucial'], ['role', 'role'], ['development', 'development'], ['sustainable', 'sustainable'], ['technologies', 'technology'], [',', ','], ['pushing', 'pushing'], ['industries', 'industry'], ['rethink', 'rethink'], ['production', 'production'], [',', ','], ['logistics', 'logistics'], [',', ','], ['energy', 'energy'], ['consumption', 'consumption'], ['.', '.'], ['As', 'As'], ['societies', 'society'], ['move', 'move'], ['forward', 'forward'], [',', ','], ['thoughtful', 'thoughtful'], ['approach', 'approach'], ['technological', 'technological'], ['adoption', 'adoption'], ['vital', 'vital'], ['ensure', 'ensure'], ['innovation', 'innovation'], ['continues', 'continues'], ['empower', 'empower'], ['people', 'people'], ['rather', 'rather'], ['alienate', 'alienate'], [',', ','], ['fostering', 'fostering'], ['inclusive', 'inclusive'], ['growth', 'growth'], ['shared', 'shared'], ['prosperity', 'prosperity'], ['across', 'across'], ['communities', 'community'], ['.', '.']]\n"
     ]
    }
   ],
   "source": [
    "wl = WordNetLemmatizer()\n",
    "lemilist = []\n",
    "for words in list:\n",
    "    lemilist.append([words, wl.lemmatize(words)])\n",
    "print(lemilist)"
   ]
  },
  {
   "cell_type": "code",
   "execution_count": 46,
   "id": "4e6043ec-e1b4-450d-b8fe-3987eef0036a",
   "metadata": {},
   "outputs": [],
   "source": [
    "########################  COUNTING THE OCCURANCE OF WORD"
   ]
  },
  {
   "cell_type": "code",
   "execution_count": 50,
   "id": "2eda0fde-5fe6-4a8a-b981-5e6e768e5d37",
   "metadata": {},
   "outputs": [
    {
     "name": "stdout",
     "output_type": "stream",
     "text": [
      "{'In': 1, 'world': 1, 'increasingly': 1, 'driven': 1, 'technological': 2, 'advancements': 1, ',': 22, 'way': 1, 'communicate': 1, 'work': 1, 'even': 1, 'think': 1, 'undergone': 1, 'profound': 1, 'transformation': 1, '.': 9, 'Digital': 1, 'platforms': 1, 'become': 2, 'essential': 1, 'everyday': 1, 'life': 1, 'tools': 2, 'convenience': 1, 'integral': 1, 'frameworks': 1, 'society': 1, 'functions': 1, 'From': 1, 'cloud': 1, 'computing': 1, 'artificial': 1, 'intelligence': 1, 'virtual': 1, 'collaboration': 1, 'social': 1, 'media': 1, 'networks': 1, 'pace': 1, 'innovation': 2, 'shows': 1, 'signs': 1, 'slowing': 1, 'Yet': 1, 'amid': 1, 'rapid': 1, 'evolution': 1, 'concerns': 1, 'around': 1, 'privacy': 1, 'mental': 1, 'health': 1, 'misinformation': 1, 'persist': 1, 'The': 1, 'balance': 1, 'embracing': 1, 'progress': 1, 'preserving': 1, 'human': 1, 'values': 1, 'central': 1, 'topic': 1, 'global': 1, 'discourse': 1, 'While': 1, 'automation': 1, 'made': 1, 'tasks': 1, 'efficient': 1, 'also': 1, 'raises': 1, 'ethical': 1, 'questions': 1, 'labor': 1, 'responsibility': 1, 'future': 1, 'role': 2, 'humans': 1, 'workforce': 1, 'Education': 1, 'reshapedâ€': 1, '”': 1, 'adaptive': 1, 'learning': 1, 'systems': 1, 'online': 1, 'classrooms': 1, 'digital': 1, 'credentials': 1, 'redefining': 1, 'knowledge': 1, 'acquired': 1, 'validated': 1, 'Meanwhile': 1, 'environmental': 1, 'considerations': 1, 'play': 1, 'crucial': 1, 'development': 1, 'sustainable': 1, 'technologies': 1, 'pushing': 1, 'industries': 1, 'rethink': 1, 'production': 1, 'logistics': 1, 'energy': 1, 'consumption': 1, 'As': 1, 'societies': 1, 'move': 1, 'forward': 1, 'thoughtful': 1, 'approach': 1, 'adoption': 1, 'vital': 1, 'ensure': 1, 'continues': 1, 'empower': 1, 'people': 1, 'rather': 1, 'alienate': 1, 'fostering': 1, 'inclusive': 1, 'growth': 1, 'shared': 1, 'prosperity': 1, 'across': 1, 'communities': 1}\n"
     ]
    }
   ],
   "source": [
    "fre = dict()\n",
    "for words in list:\n",
    "    if words in fre:\n",
    "        fre[words] += 1\n",
    "    else:\n",
    "        fre[words] = 1\n",
    "print(fre)"
   ]
  },
  {
   "cell_type": "code",
   "execution_count": 52,
   "id": "38623829-0cc8-406b-a8d3-1deab10192f5",
   "metadata": {},
   "outputs": [],
   "source": [
    "######################3      CALCULATING TERM FREQUENCY OF WORD"
   ]
  },
  {
   "cell_type": "code",
   "execution_count": 58,
   "id": "6c5655cc-41a9-4d35-857a-91b44e76d67c",
   "metadata": {},
   "outputs": [
    {
     "name": "stdout",
     "output_type": "stream",
     "text": [
      "{'In': 0.006097560975609756, 'world': 0.006097560975609756, 'increasingly': 0.006097560975609756, 'driven': 0.006097560975609756, 'technological': 0.012195121951219513, 'advancements': 0.006097560975609756, ',': 0.13414634146341467, 'way': 0.006097560975609756, 'communicate': 0.006097560975609756, 'work': 0.006097560975609756, 'even': 0.006097560975609756, 'think': 0.006097560975609756, 'undergone': 0.006097560975609756, 'profound': 0.006097560975609756, 'transformation': 0.006097560975609756, '.': 0.0548780487804878, 'Digital': 0.006097560975609756, 'platforms': 0.006097560975609756, 'become': 0.012195121951219513, 'essential': 0.006097560975609756, 'everyday': 0.006097560975609756, 'life': 0.006097560975609756, 'tools': 0.012195121951219513, 'convenience': 0.006097560975609756, 'integral': 0.006097560975609756, 'frameworks': 0.006097560975609756, 'society': 0.006097560975609756, 'functions': 0.006097560975609756, 'From': 0.006097560975609756, 'cloud': 0.006097560975609756, 'computing': 0.006097560975609756, 'artificial': 0.006097560975609756, 'intelligence': 0.006097560975609756, 'virtual': 0.006097560975609756, 'collaboration': 0.006097560975609756, 'social': 0.006097560975609756, 'media': 0.006097560975609756, 'networks': 0.006097560975609756, 'pace': 0.006097560975609756, 'innovation': 0.012195121951219513, 'shows': 0.006097560975609756, 'signs': 0.006097560975609756, 'slowing': 0.006097560975609756, 'Yet': 0.006097560975609756, 'amid': 0.006097560975609756, 'rapid': 0.006097560975609756, 'evolution': 0.006097560975609756, 'concerns': 0.006097560975609756, 'around': 0.006097560975609756, 'privacy': 0.006097560975609756, 'mental': 0.006097560975609756, 'health': 0.006097560975609756, 'misinformation': 0.006097560975609756, 'persist': 0.006097560975609756, 'The': 0.006097560975609756, 'balance': 0.006097560975609756, 'embracing': 0.006097560975609756, 'progress': 0.006097560975609756, 'preserving': 0.006097560975609756, 'human': 0.006097560975609756, 'values': 0.006097560975609756, 'central': 0.006097560975609756, 'topic': 0.006097560975609756, 'global': 0.006097560975609756, 'discourse': 0.006097560975609756, 'While': 0.006097560975609756, 'automation': 0.006097560975609756, 'made': 0.006097560975609756, 'tasks': 0.006097560975609756, 'efficient': 0.006097560975609756, 'also': 0.006097560975609756, 'raises': 0.006097560975609756, 'ethical': 0.006097560975609756, 'questions': 0.006097560975609756, 'labor': 0.006097560975609756, 'responsibility': 0.006097560975609756, 'future': 0.006097560975609756, 'role': 0.012195121951219513, 'humans': 0.006097560975609756, 'workforce': 0.006097560975609756, 'Education': 0.006097560975609756, 'reshapedâ€': 0.006097560975609756, '”': 0.006097560975609756, 'adaptive': 0.006097560975609756, 'learning': 0.006097560975609756, 'systems': 0.006097560975609756, 'online': 0.006097560975609756, 'classrooms': 0.006097560975609756, 'digital': 0.006097560975609756, 'credentials': 0.006097560975609756, 'redefining': 0.006097560975609756, 'knowledge': 0.006097560975609756, 'acquired': 0.006097560975609756, 'validated': 0.006097560975609756, 'Meanwhile': 0.006097560975609756, 'environmental': 0.006097560975609756, 'considerations': 0.006097560975609756, 'play': 0.006097560975609756, 'crucial': 0.006097560975609756, 'development': 0.006097560975609756, 'sustainable': 0.006097560975609756, 'technologies': 0.006097560975609756, 'pushing': 0.006097560975609756, 'industries': 0.006097560975609756, 'rethink': 0.006097560975609756, 'production': 0.006097560975609756, 'logistics': 0.006097560975609756, 'energy': 0.006097560975609756, 'consumption': 0.006097560975609756, 'As': 0.006097560975609756, 'societies': 0.006097560975609756, 'move': 0.006097560975609756, 'forward': 0.006097560975609756, 'thoughtful': 0.006097560975609756, 'approach': 0.006097560975609756, 'adoption': 0.006097560975609756, 'vital': 0.006097560975609756, 'ensure': 0.006097560975609756, 'continues': 0.006097560975609756, 'empower': 0.006097560975609756, 'people': 0.006097560975609756, 'rather': 0.006097560975609756, 'alienate': 0.006097560975609756, 'fostering': 0.006097560975609756, 'inclusive': 0.006097560975609756, 'growth': 0.006097560975609756, 'shared': 0.006097560975609756, 'prosperity': 0.006097560975609756, 'across': 0.006097560975609756, 'communities': 0.006097560975609756}\n"
     ]
    }
   ],
   "source": [
    "total_words = len(list)\n",
    "tf={}\n",
    "for word in list:\n",
    "    if word in tf:\n",
    "        tf[word]+=1 / total_words\n",
    "    else:\n",
    "        tf[word] = 1 / total_words\n",
    "\n",
    "print (tf)"
   ]
  },
  {
   "cell_type": "code",
   "execution_count": 60,
   "id": "07d3fce1-b2bd-4871-a16d-f55b1831f5c3",
   "metadata": {},
   "outputs": [],
   "source": [
    "################### CALCULATING INVERSE DOCUMENT FREQUENCY"
   ]
  },
  {
   "cell_type": "code",
   "execution_count": 64,
   "id": "9c598cc2-0a84-4453-b227-dd5c7f3ca543",
   "metadata": {},
   "outputs": [
    {
     "name": "stdout",
     "output_type": "stream",
     "text": [
      "{'In': 0, 'world': 0, 'increasingly': 0, 'driven': 0, 'technological': 0, 'advancements': 0, ',': 4.170884639344435, 'way': 0, 'communicate': 0, 'work': 0, 'even': 0, 'think': 0, 'undergone': 0, 'profound': 0, 'transformation': 0, '.': 5.064702515366531, 'Digital': 0, 'platforms': 0, 'become': 0, 'essential': 0, 'everyday': 0, 'life': 0, 'tools': 0, 'convenience': 0, 'integral': 0, 'frameworks': 0, 'society': 0, 'functions': 0, 'From': 0, 'cloud': 0, 'computing': 0, 'artificial': 0, 'intelligence': 0, 'virtual': 0, 'collaboration': 0, 'social': 0, 'media': 0, 'networks': 0, 'pace': 0, 'innovation': 0, 'shows': 0, 'signs': 0, 'slowing': 0, 'Yet': 0, 'amid': 0, 'rapid': 0, 'evolution': 0, 'concerns': 0, 'around': 0, 'privacy': 0, 'mental': 0, 'health': 0, 'misinformation': 0, 'persist': 0, 'The': 0, 'balance': 0, 'embracing': 0, 'progress': 0, 'preserving': 0, 'human': 0, 'values': 0, 'central': 0, 'topic': 0, 'global': 0, 'discourse': 0, 'While': 0, 'automation': 0, 'made': 0, 'tasks': 0, 'efficient': 0, 'also': 0, 'raises': 0, 'ethical': 0, 'questions': 0, 'labor': 0, 'responsibility': 0, 'future': 0, 'role': 0, 'humans': 0, 'workforce': 0, 'Education': 0, 'reshapedâ€': 0, '”': 7.261927092702751, 'adaptive': 0, 'learning': 0, 'systems': 0, 'online': 0, 'classrooms': 0, 'digital': 0, 'credentials': 0, 'redefining': 0, 'knowledge': 0, 'acquired': 0, 'validated': 0, 'Meanwhile': 0, 'environmental': 0, 'considerations': 0, 'play': 0, 'crucial': 0, 'development': 0, 'sustainable': 0, 'technologies': 0, 'pushing': 0, 'industries': 0, 'rethink': 0, 'production': 0, 'logistics': 0, 'energy': 0, 'consumption': 0, 'As': 0, 'societies': 0, 'move': 0, 'forward': 0, 'thoughtful': 0, 'approach': 0, 'adoption': 0, 'vital': 0, 'ensure': 0, 'continues': 0, 'empower': 0, 'people': 0, 'rather': 0, 'alienate': 0, 'fostering': 0, 'inclusive': 0, 'growth': 0, 'shared': 0, 'prosperity': 0, 'across': 0, 'communities': 0}\n"
     ]
    }
   ],
   "source": [
    "import math\n",
    "idf = {}\n",
    "num_docs = len(x)\n",
    "for word in list:\n",
    "    count = sum(1 for doc in x if word in doc)\n",
    "    idf[word] = math.log(num_docs / count) if count>0 else 0\n",
    "\n",
    "print (idf)"
   ]
  },
  {
   "cell_type": "code",
   "execution_count": null,
   "id": "afcc4c8c-3b25-4e5d-b001-6be20c4cb992",
   "metadata": {},
   "outputs": [],
   "source": []
  }
 ],
 "metadata": {
  "kernelspec": {
   "display_name": "Python [conda env:base] *",
   "language": "python",
   "name": "conda-base-py"
  },
  "language_info": {
   "codemirror_mode": {
    "name": "ipython",
    "version": 3
   },
   "file_extension": ".py",
   "mimetype": "text/x-python",
   "name": "python",
   "nbconvert_exporter": "python",
   "pygments_lexer": "ipython3",
   "version": "3.12.7"
  }
 },
 "nbformat": 4,
 "nbformat_minor": 5
}
